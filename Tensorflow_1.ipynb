{
  "nbformat": 4,
  "nbformat_minor": 0,
  "metadata": {
    "colab": {
      "provenance": [],
      "collapsed_sections": [
        "fU_kCslRxDPv",
        "XfWs9-G5w7cF"
      ],
      "authorship_tag": "ABX9TyMyp7wn6Su1CRg8NcWQwDTg",
      "include_colab_link": true
    },
    "kernelspec": {
      "name": "python3",
      "display_name": "Python 3"
    },
    "language_info": {
      "name": "python"
    },
    "accelerator": "GPU",
    "gpuClass": "standard"
  },
  "cells": [
    {
      "cell_type": "markdown",
      "metadata": {
        "id": "view-in-github",
        "colab_type": "text"
      },
      "source": [
        "<a href=\"https://colab.research.google.com/github/Filipsys/intermediate_python/blob/main/Tensorflow_1.ipynb\" target=\"_parent\"><img src=\"https://colab.research.google.com/assets/colab-badge.svg\" alt=\"Open In Colab\"/></a>"
      ]
    },
    {
      "cell_type": "code",
      "execution_count": 89,
      "metadata": {
        "colab": {
          "base_uri": "https://localhost:8080/"
        },
        "id": "Qvvx7yuqQWSk",
        "outputId": "85edd555-7b7d-4bf5-d031-d4bae79743c7"
      },
      "outputs": [
        {
          "output_type": "stream",
          "name": "stdout",
          "text": [
            "2.11.0\n"
          ]
        }
      ],
      "source": [
        "# Import Tensorflow\n",
        "import tensorflow as tf\n",
        "\n",
        "print(tf.__version__)"
      ]
    },
    {
      "cell_type": "code",
      "source": [
        "# Create tensors with tf.constant()\n",
        "scalar = tf.constant(7)\n",
        "\n",
        "scalar"
      ],
      "metadata": {
        "colab": {
          "base_uri": "https://localhost:8080/"
        },
        "id": "a9JOYh7eRVFx",
        "outputId": "71c17707-54fa-4576-d631-27968158eb8b"
      },
      "execution_count": 90,
      "outputs": [
        {
          "output_type": "execute_result",
          "data": {
            "text/plain": [
              "<tf.Tensor: shape=(), dtype=int32, numpy=7>"
            ]
          },
          "metadata": {},
          "execution_count": 90
        }
      ]
    },
    {
      "cell_type": "code",
      "source": [
        "# Check the number of dimensions of a tensor \n",
        "# (ndim stands for nuber of dimensions)\n",
        "scalar.ndim"
      ],
      "metadata": {
        "colab": {
          "base_uri": "https://localhost:8080/"
        },
        "id": "_wvMUAbjR2E1",
        "outputId": "df7ca9de-0efd-4d1f-9f9c-cecc162519e2"
      },
      "execution_count": 91,
      "outputs": [
        {
          "output_type": "execute_result",
          "data": {
            "text/plain": [
              "0"
            ]
          },
          "metadata": {},
          "execution_count": 91
        }
      ]
    },
    {
      "cell_type": "code",
      "source": [
        "# Create a vector\n",
        "vector = tf.constant([10, 10])\n",
        "\n",
        "vector"
      ],
      "metadata": {
        "colab": {
          "base_uri": "https://localhost:8080/"
        },
        "id": "aB8Hrv7wR_1J",
        "outputId": "33a0f09d-1d49-4ce3-8955-55602a1c869e"
      },
      "execution_count": 92,
      "outputs": [
        {
          "output_type": "execute_result",
          "data": {
            "text/plain": [
              "<tf.Tensor: shape=(2,), dtype=int32, numpy=array([10, 10], dtype=int32)>"
            ]
          },
          "metadata": {},
          "execution_count": 92
        }
      ]
    },
    {
      "cell_type": "code",
      "source": [
        "# Check the dimension of our vector\n",
        "vector.ndim"
      ],
      "metadata": {
        "colab": {
          "base_uri": "https://localhost:8080/"
        },
        "id": "wKtnvN-xSNvz",
        "outputId": "01963aed-51f9-469a-fb3e-0a34725c9282"
      },
      "execution_count": 93,
      "outputs": [
        {
          "output_type": "execute_result",
          "data": {
            "text/plain": [
              "1"
            ]
          },
          "metadata": {},
          "execution_count": 93
        }
      ]
    },
    {
      "cell_type": "code",
      "source": [
        "# Create a matrix (has more than 1 dimension)\n",
        "matrix = tf.constant([[10, 7],\n",
        "                     [7, 10]])\n",
        "\n",
        "matrix"
      ],
      "metadata": {
        "colab": {
          "base_uri": "https://localhost:8080/"
        },
        "id": "9BrAM4pXSUmB",
        "outputId": "19cfb374-6ede-4381-dc5c-6c6e0f1f9bbf"
      },
      "execution_count": 94,
      "outputs": [
        {
          "output_type": "execute_result",
          "data": {
            "text/plain": [
              "<tf.Tensor: shape=(2, 2), dtype=int32, numpy=\n",
              "array([[10,  7],\n",
              "       [ 7, 10]], dtype=int32)>"
            ]
          },
          "metadata": {},
          "execution_count": 94
        }
      ]
    },
    {
      "cell_type": "code",
      "source": [
        "matrix.ndim"
      ],
      "metadata": {
        "colab": {
          "base_uri": "https://localhost:8080/"
        },
        "id": "K2NSQRV7Snoo",
        "outputId": "06a3feb8-ddae-4949-f208-47d51484aed5"
      },
      "execution_count": 95,
      "outputs": [
        {
          "output_type": "execute_result",
          "data": {
            "text/plain": [
              "2"
            ]
          },
          "metadata": {},
          "execution_count": 95
        }
      ]
    },
    {
      "cell_type": "code",
      "source": [
        "# Create another matrix\n",
        "\n",
        "another_matrix = tf.constant([[10., 7.],\n",
        "                              [3., 2.],\n",
        "                              [8., 9,]], dtype = tf.float16)\n",
        "\n",
        "another_matrix"
      ],
      "metadata": {
        "colab": {
          "base_uri": "https://localhost:8080/"
        },
        "id": "Kme_9niWSvuL",
        "outputId": "d0847c56-6ed9-47e3-dd96-10a393b331ec"
      },
      "execution_count": 96,
      "outputs": [
        {
          "output_type": "execute_result",
          "data": {
            "text/plain": [
              "<tf.Tensor: shape=(3, 2), dtype=float16, numpy=\n",
              "array([[10.,  7.],\n",
              "       [ 3.,  2.],\n",
              "       [ 8.,  9.]], dtype=float16)>"
            ]
          },
          "metadata": {},
          "execution_count": 96
        }
      ]
    },
    {
      "cell_type": "code",
      "source": [
        "another_matrix.ndim"
      ],
      "metadata": {
        "colab": {
          "base_uri": "https://localhost:8080/"
        },
        "id": "wNi7iodCTVHP",
        "outputId": "6b2f6e6d-e166-4d75-e291-1e6c047d7c07"
      },
      "execution_count": 97,
      "outputs": [
        {
          "output_type": "execute_result",
          "data": {
            "text/plain": [
              "2"
            ]
          },
          "metadata": {},
          "execution_count": 97
        }
      ]
    },
    {
      "cell_type": "code",
      "source": [
        "tensor = tf.constant([[[1, 2, 3],\n",
        "                       [4, 5, 6]],\n",
        "                       [[7, 8, 9],\n",
        "                        [10, 11, 12]],\n",
        "                       [[13, 14, 15],\n",
        "                        [16, 17, 18]]])\n",
        "\n",
        "tensor"
      ],
      "metadata": {
        "colab": {
          "base_uri": "https://localhost:8080/"
        },
        "id": "m2x4yuvJTlFO",
        "outputId": "26f5481d-dab9-4a3b-b246-371cde6d03d4"
      },
      "execution_count": 98,
      "outputs": [
        {
          "output_type": "execute_result",
          "data": {
            "text/plain": [
              "<tf.Tensor: shape=(3, 2, 3), dtype=int32, numpy=\n",
              "array([[[ 1,  2,  3],\n",
              "        [ 4,  5,  6]],\n",
              "\n",
              "       [[ 7,  8,  9],\n",
              "        [10, 11, 12]],\n",
              "\n",
              "       [[13, 14, 15],\n",
              "        [16, 17, 18]]], dtype=int32)>"
            ]
          },
          "metadata": {},
          "execution_count": 98
        }
      ]
    },
    {
      "cell_type": "code",
      "source": [
        "tensor.ndim"
      ],
      "metadata": {
        "colab": {
          "base_uri": "https://localhost:8080/"
        },
        "id": "vKf1uOEbUTyH",
        "outputId": "88fd10ec-145e-412d-e984-adb6f0d65090"
      },
      "execution_count": 99,
      "outputs": [
        {
          "output_type": "execute_result",
          "data": {
            "text/plain": [
              "3"
            ]
          },
          "metadata": {},
          "execution_count": 99
        }
      ]
    },
    {
      "cell_type": "markdown",
      "source": [
        "* Scalar: a single number\n",
        "* Vector: a number with direction\n",
        "* Matrix: a 2-dimensional array of numbers\n",
        "* tensor: an n-dimensional array of numbers"
      ],
      "metadata": {
        "id": "W29CD77hU4Ln"
      }
    },
    {
      "cell_type": "code",
      "source": [
        "tf.Variable"
      ],
      "metadata": {
        "colab": {
          "base_uri": "https://localhost:8080/"
        },
        "id": "jgx2dW3vVe88",
        "outputId": "ab212449-f4fe-4207-e678-ef7973557ce9"
      },
      "execution_count": 100,
      "outputs": [
        {
          "output_type": "execute_result",
          "data": {
            "text/plain": [
              "tensorflow.python.ops.variables.Variable"
            ]
          },
          "metadata": {},
          "execution_count": 100
        }
      ]
    },
    {
      "cell_type": "code",
      "source": [
        "changeable_tensor = tf.Variable([10, 7])\n",
        "unchangeable_tensor = tf.constant([10, 7])\n",
        "\n",
        "changeable_tensor, unchangeable_tensor"
      ],
      "metadata": {
        "colab": {
          "base_uri": "https://localhost:8080/"
        },
        "id": "Y6b8KUBCVsDC",
        "outputId": "f22457a4-a9f5-429c-aa0e-87d2adf5f947"
      },
      "execution_count": 101,
      "outputs": [
        {
          "output_type": "execute_result",
          "data": {
            "text/plain": [
              "(<tf.Variable 'Variable:0' shape=(2,) dtype=int32, numpy=array([10,  7], dtype=int32)>,\n",
              " <tf.Tensor: shape=(2,), dtype=int32, numpy=array([10,  7], dtype=int32)>)"
            ]
          },
          "metadata": {},
          "execution_count": 101
        }
      ]
    },
    {
      "cell_type": "code",
      "source": [
        "changeable_tensor[0].assign(1)\n",
        "changeable_tensor[1].assign(2)\n",
        "\n",
        "changeable_tensor"
      ],
      "metadata": {
        "colab": {
          "base_uri": "https://localhost:8080/"
        },
        "id": "tBvnA1QDWS8-",
        "outputId": "857213d4-df3d-4a63-aa00-9988882dab71"
      },
      "execution_count": 102,
      "outputs": [
        {
          "output_type": "execute_result",
          "data": {
            "text/plain": [
              "<tf.Variable 'Variable:0' shape=(2,) dtype=int32, numpy=array([1, 2], dtype=int32)>"
            ]
          },
          "metadata": {},
          "execution_count": 102
        }
      ]
    },
    {
      "cell_type": "code",
      "source": [
        "# Random tensors\n",
        "random_1 = tf.random.Generator.from_seed(12)\n",
        "random_1 = random_1.normal(shape = (2, 3))\n",
        "\n",
        "random_2 = tf.random.Generator.from_seed(43)\n",
        "random_2 = random_2.normal(shape = (2, 3))\n",
        "\n",
        "random_1, random_2, random_1 == random_2"
      ],
      "metadata": {
        "colab": {
          "base_uri": "https://localhost:8080/"
        },
        "id": "eFbZdOlpXHXA",
        "outputId": "2b5248a6-f140-4af1-e402-2b2464daa136"
      },
      "execution_count": 103,
      "outputs": [
        {
          "output_type": "execute_result",
          "data": {
            "text/plain": [
              "(<tf.Tensor: shape=(2, 3), dtype=float32, numpy=\n",
              " array([[-1.0130816 ,  0.2829171 ,  1.2132235 ],\n",
              "        [ 0.46988973,  0.37944326, -0.6664026 ]], dtype=float32)>,\n",
              " <tf.Tensor: shape=(2, 3), dtype=float32, numpy=\n",
              " array([[-0.23193765, -1.8107855 ,  0.09988727],\n",
              "        [-0.50998646, -0.7535806 , -0.5716629 ]], dtype=float32)>,\n",
              " <tf.Tensor: shape=(2, 3), dtype=bool, numpy=\n",
              " array([[False, False, False],\n",
              "        [False, False, False]])>)"
            ]
          },
          "metadata": {},
          "execution_count": 103
        }
      ]
    },
    {
      "cell_type": "markdown",
      "source": [
        "### Shuffle the order of elements in a tensor"
      ],
      "metadata": {
        "id": "fU_kCslRxDPv"
      }
    },
    {
      "cell_type": "code",
      "source": [
        "not_shuffled = tf.constant([[10, 7, 9],\n",
        "                           [2, 5, 6],\n",
        "                           [4, 3, 4]])\n",
        " \n",
        "tf.random.shuffle(not_shuffled)"
      ],
      "metadata": {
        "colab": {
          "base_uri": "https://localhost:8080/"
        },
        "id": "QwOmpTwtxGIf",
        "outputId": "d0e8726d-cefd-4dc8-b580-6399f7b18d6b"
      },
      "execution_count": 104,
      "outputs": [
        {
          "output_type": "execute_result",
          "data": {
            "text/plain": [
              "<tf.Tensor: shape=(3, 3), dtype=int32, numpy=\n",
              "array([[ 4,  3,  4],\n",
              "       [ 2,  5,  6],\n",
              "       [10,  7,  9]], dtype=int32)>"
            ]
          },
          "metadata": {},
          "execution_count": 104
        }
      ]
    },
    {
      "cell_type": "code",
      "source": [
        "tf.random.set_seed(42) # Global level seed\n",
        "tf.random.shuffle(not_shuffled, seed = 42) # Operation level random seed"
      ],
      "metadata": {
        "id": "luvfNg_16HYC",
        "colab": {
          "base_uri": "https://localhost:8080/"
        },
        "outputId": "04fd7626-3182-4a8a-864b-5fe1cf9a7b1d"
      },
      "execution_count": 105,
      "outputs": [
        {
          "output_type": "execute_result",
          "data": {
            "text/plain": [
              "<tf.Tensor: shape=(3, 3), dtype=int32, numpy=\n",
              "array([[10,  7,  9],\n",
              "       [ 2,  5,  6],\n",
              "       [ 4,  3,  4]], dtype=int32)>"
            ]
          },
          "metadata": {},
          "execution_count": 105
        }
      ]
    },
    {
      "cell_type": "code",
      "source": [
        "tf.ones([6, 6])"
      ],
      "metadata": {
        "colab": {
          "base_uri": "https://localhost:8080/"
        },
        "id": "virAEr7-VvEn",
        "outputId": "d8c5fece-ba3e-4e79-c711-bf5e42b36b5a"
      },
      "execution_count": 106,
      "outputs": [
        {
          "output_type": "execute_result",
          "data": {
            "text/plain": [
              "<tf.Tensor: shape=(6, 6), dtype=float32, numpy=\n",
              "array([[1., 1., 1., 1., 1., 1.],\n",
              "       [1., 1., 1., 1., 1., 1.],\n",
              "       [1., 1., 1., 1., 1., 1.],\n",
              "       [1., 1., 1., 1., 1., 1.],\n",
              "       [1., 1., 1., 1., 1., 1.],\n",
              "       [1., 1., 1., 1., 1., 1.]], dtype=float32)>"
            ]
          },
          "metadata": {},
          "execution_count": 106
        }
      ]
    },
    {
      "cell_type": "code",
      "source": [
        "tf.zeros(shape = (10, 10))"
      ],
      "metadata": {
        "colab": {
          "base_uri": "https://localhost:8080/"
        },
        "id": "xIgNdl_CWjqc",
        "outputId": "d43222d9-0bc4-46cc-9660-ba3a08f38868"
      },
      "execution_count": 107,
      "outputs": [
        {
          "output_type": "execute_result",
          "data": {
            "text/plain": [
              "<tf.Tensor: shape=(10, 10), dtype=float32, numpy=\n",
              "array([[0., 0., 0., 0., 0., 0., 0., 0., 0., 0.],\n",
              "       [0., 0., 0., 0., 0., 0., 0., 0., 0., 0.],\n",
              "       [0., 0., 0., 0., 0., 0., 0., 0., 0., 0.],\n",
              "       [0., 0., 0., 0., 0., 0., 0., 0., 0., 0.],\n",
              "       [0., 0., 0., 0., 0., 0., 0., 0., 0., 0.],\n",
              "       [0., 0., 0., 0., 0., 0., 0., 0., 0., 0.],\n",
              "       [0., 0., 0., 0., 0., 0., 0., 0., 0., 0.],\n",
              "       [0., 0., 0., 0., 0., 0., 0., 0., 0., 0.],\n",
              "       [0., 0., 0., 0., 0., 0., 0., 0., 0., 0.],\n",
              "       [0., 0., 0., 0., 0., 0., 0., 0., 0., 0.]], dtype=float32)>"
            ]
          },
          "metadata": {},
          "execution_count": 107
        }
      ]
    },
    {
      "cell_type": "code",
      "source": [
        "import numpy as np\n",
        "numpy_A = np.arange(1, 25, dtype = np.int32) # Create a NumPy array from 1 and 25\n",
        "\n",
        "numpy_A\n",
        "\n",
        "# X = tf.constant(some_matrix) # capital for matrix\n",
        "# y = tf.constant(vector) #non-capital for vector"
      ],
      "metadata": {
        "colab": {
          "base_uri": "https://localhost:8080/"
        },
        "id": "p9tCQHdzWtyO",
        "outputId": "ae75e21c-9815-49bc-83aa-7462f70719b3"
      },
      "execution_count": 108,
      "outputs": [
        {
          "output_type": "execute_result",
          "data": {
            "text/plain": [
              "array([ 1,  2,  3,  4,  5,  6,  7,  8,  9, 10, 11, 12, 13, 14, 15, 16, 17,\n",
              "       18, 19, 20, 21, 22, 23, 24], dtype=int32)"
            ]
          },
          "metadata": {},
          "execution_count": 108
        }
      ]
    },
    {
      "cell_type": "code",
      "source": [
        "tensor_A = tf.constant(numpy_A, shape = (2, 3, 4))\n",
        "\n",
        "tensor_A"
      ],
      "metadata": {
        "colab": {
          "base_uri": "https://localhost:8080/"
        },
        "id": "PlikBn2flUmn",
        "outputId": "4e3211f4-6cbc-4e64-ff31-343b8937bf23"
      },
      "execution_count": 109,
      "outputs": [
        {
          "output_type": "execute_result",
          "data": {
            "text/plain": [
              "<tf.Tensor: shape=(2, 3, 4), dtype=int32, numpy=\n",
              "array([[[ 1,  2,  3,  4],\n",
              "        [ 5,  6,  7,  8],\n",
              "        [ 9, 10, 11, 12]],\n",
              "\n",
              "       [[13, 14, 15, 16],\n",
              "        [17, 18, 19, 20],\n",
              "        [21, 22, 23, 24]]], dtype=int32)>"
            ]
          },
          "metadata": {},
          "execution_count": 109
        }
      ]
    },
    {
      "cell_type": "markdown",
      "source": [
        "### Getting information on tensors\n",
        "\n",
        "* Shape\n",
        "* Rank\n",
        "* Axis or dimension\n",
        "* Size"
      ],
      "metadata": {
        "id": "XfWs9-G5w7cF"
      }
    },
    {
      "cell_type": "code",
      "source": [
        "# Create a rank 4 tensor\n",
        "\n",
        "rank_4_tensor = tf.zeros(shape = [2, 3, 4, 5])\n",
        "\n",
        "rank_4_tensor, rank_4_tensor.shape, rank_4_tensor.ndim, tf.size(rank_4_tensor)"
      ],
      "metadata": {
        "colab": {
          "base_uri": "https://localhost:8080/"
        },
        "id": "DGnXA1PDFqGq",
        "outputId": "d40984b1-658b-4628-c7e1-13bb8a842954"
      },
      "execution_count": 110,
      "outputs": [
        {
          "output_type": "execute_result",
          "data": {
            "text/plain": [
              "(<tf.Tensor: shape=(2, 3, 4, 5), dtype=float32, numpy=\n",
              " array([[[[0., 0., 0., 0., 0.],\n",
              "          [0., 0., 0., 0., 0.],\n",
              "          [0., 0., 0., 0., 0.],\n",
              "          [0., 0., 0., 0., 0.]],\n",
              " \n",
              "         [[0., 0., 0., 0., 0.],\n",
              "          [0., 0., 0., 0., 0.],\n",
              "          [0., 0., 0., 0., 0.],\n",
              "          [0., 0., 0., 0., 0.]],\n",
              " \n",
              "         [[0., 0., 0., 0., 0.],\n",
              "          [0., 0., 0., 0., 0.],\n",
              "          [0., 0., 0., 0., 0.],\n",
              "          [0., 0., 0., 0., 0.]]],\n",
              " \n",
              " \n",
              "        [[[0., 0., 0., 0., 0.],\n",
              "          [0., 0., 0., 0., 0.],\n",
              "          [0., 0., 0., 0., 0.],\n",
              "          [0., 0., 0., 0., 0.]],\n",
              " \n",
              "         [[0., 0., 0., 0., 0.],\n",
              "          [0., 0., 0., 0., 0.],\n",
              "          [0., 0., 0., 0., 0.],\n",
              "          [0., 0., 0., 0., 0.]],\n",
              " \n",
              "         [[0., 0., 0., 0., 0.],\n",
              "          [0., 0., 0., 0., 0.],\n",
              "          [0., 0., 0., 0., 0.],\n",
              "          [0., 0., 0., 0., 0.]]]], dtype=float32)>,\n",
              " TensorShape([2, 3, 4, 5]),\n",
              " 4,\n",
              " <tf.Tensor: shape=(), dtype=int32, numpy=120>)"
            ]
          },
          "metadata": {},
          "execution_count": 110
        }
      ]
    },
    {
      "cell_type": "code",
      "source": [
        "print(f\"Datatype of every element: {rank_4_tensor.dtype}\")\n",
        "print(f\"Number of dimensions (rank): {rank_4_tensor.ndim}\")\n",
        "print(f\"Shape of tensor: {rank_4_tensor.shape}\")\n",
        "print(f\"Elements along the 0 axis: {rank_4_tensor.shape[0]}\")\n",
        "print(f\"Elements along the last axis: {rank_4_tensor.shape[-1]}\")\n",
        "print(f\"Total number of elements in our tensor: {tf.size(rank_4_tensor).numpy()}\")"
      ],
      "metadata": {
        "colab": {
          "base_uri": "https://localhost:8080/"
        },
        "id": "40ThLmgdGpZR",
        "outputId": "5a927490-f03c-4812-b5eb-fbc7b50a31f2"
      },
      "execution_count": 111,
      "outputs": [
        {
          "output_type": "stream",
          "name": "stdout",
          "text": [
            "Datatype of every element: <dtype: 'float32'>\n",
            "Number of dimensions (rank): 4\n",
            "Shape of tensor: (2, 3, 4, 5)\n",
            "Elements along the 0 axis: 2\n",
            "Elements along the last axis: 5\n",
            "Total number of elements in our tensor: 120\n"
          ]
        }
      ]
    },
    {
      "cell_type": "code",
      "source": [
        "rank_4_tensor[:2, :2, :2, :2]"
      ],
      "metadata": {
        "colab": {
          "base_uri": "https://localhost:8080/"
        },
        "id": "1Qrl2fLgHlxJ",
        "outputId": "292d26d7-06ac-447a-b369-8e10383832b3"
      },
      "execution_count": 112,
      "outputs": [
        {
          "output_type": "execute_result",
          "data": {
            "text/plain": [
              "<tf.Tensor: shape=(2, 2, 2, 2), dtype=float32, numpy=\n",
              "array([[[[0., 0.],\n",
              "         [0., 0.]],\n",
              "\n",
              "        [[0., 0.],\n",
              "         [0., 0.]]],\n",
              "\n",
              "\n",
              "       [[[0., 0.],\n",
              "         [0., 0.]],\n",
              "\n",
              "        [[0., 0.],\n",
              "         [0., 0.]]]], dtype=float32)>"
            ]
          },
          "metadata": {},
          "execution_count": 112
        }
      ]
    },
    {
      "cell_type": "code",
      "source": [
        "test_tensor1 = tf.zeros(shape = [1, 2, 10, 10])\n",
        "\n",
        "test_tensor1, test_tensor1.ndim, tf.size(test_tensor1).numpy()"
      ],
      "metadata": {
        "id": "AkGCNaP4xxFM",
        "colab": {
          "base_uri": "https://localhost:8080/"
        },
        "outputId": "e33c5fd4-6cfe-4a8d-d058-69d2a1fae699"
      },
      "execution_count": 113,
      "outputs": [
        {
          "output_type": "execute_result",
          "data": {
            "text/plain": [
              "(<tf.Tensor: shape=(1, 2, 10, 10), dtype=float32, numpy=\n",
              " array([[[[0., 0., 0., 0., 0., 0., 0., 0., 0., 0.],\n",
              "          [0., 0., 0., 0., 0., 0., 0., 0., 0., 0.],\n",
              "          [0., 0., 0., 0., 0., 0., 0., 0., 0., 0.],\n",
              "          [0., 0., 0., 0., 0., 0., 0., 0., 0., 0.],\n",
              "          [0., 0., 0., 0., 0., 0., 0., 0., 0., 0.],\n",
              "          [0., 0., 0., 0., 0., 0., 0., 0., 0., 0.],\n",
              "          [0., 0., 0., 0., 0., 0., 0., 0., 0., 0.],\n",
              "          [0., 0., 0., 0., 0., 0., 0., 0., 0., 0.],\n",
              "          [0., 0., 0., 0., 0., 0., 0., 0., 0., 0.],\n",
              "          [0., 0., 0., 0., 0., 0., 0., 0., 0., 0.]],\n",
              " \n",
              "         [[0., 0., 0., 0., 0., 0., 0., 0., 0., 0.],\n",
              "          [0., 0., 0., 0., 0., 0., 0., 0., 0., 0.],\n",
              "          [0., 0., 0., 0., 0., 0., 0., 0., 0., 0.],\n",
              "          [0., 0., 0., 0., 0., 0., 0., 0., 0., 0.],\n",
              "          [0., 0., 0., 0., 0., 0., 0., 0., 0., 0.],\n",
              "          [0., 0., 0., 0., 0., 0., 0., 0., 0., 0.],\n",
              "          [0., 0., 0., 0., 0., 0., 0., 0., 0., 0.],\n",
              "          [0., 0., 0., 0., 0., 0., 0., 0., 0., 0.],\n",
              "          [0., 0., 0., 0., 0., 0., 0., 0., 0., 0.],\n",
              "          [0., 0., 0., 0., 0., 0., 0., 0., 0., 0.]]]], dtype=float32)>, 4, 200)"
            ]
          },
          "metadata": {},
          "execution_count": 113
        }
      ]
    },
    {
      "cell_type": "code",
      "source": [
        "rank_4_tensor[:, :, :, :1]"
      ],
      "metadata": {
        "colab": {
          "base_uri": "https://localhost:8080/"
        },
        "id": "DxJIfNpazVDH",
        "outputId": "cafaa809-6133-4f58-d763-7d80119952fe"
      },
      "execution_count": 114,
      "outputs": [
        {
          "output_type": "execute_result",
          "data": {
            "text/plain": [
              "<tf.Tensor: shape=(2, 3, 4, 1), dtype=float32, numpy=\n",
              "array([[[[0.],\n",
              "         [0.],\n",
              "         [0.],\n",
              "         [0.]],\n",
              "\n",
              "        [[0.],\n",
              "         [0.],\n",
              "         [0.],\n",
              "         [0.]],\n",
              "\n",
              "        [[0.],\n",
              "         [0.],\n",
              "         [0.],\n",
              "         [0.]]],\n",
              "\n",
              "\n",
              "       [[[0.],\n",
              "         [0.],\n",
              "         [0.],\n",
              "         [0.]],\n",
              "\n",
              "        [[0.],\n",
              "         [0.],\n",
              "         [0.],\n",
              "         [0.]],\n",
              "\n",
              "        [[0.],\n",
              "         [0.],\n",
              "         [0.],\n",
              "         [0.]]]], dtype=float32)>"
            ]
          },
          "metadata": {},
          "execution_count": 114
        }
      ]
    },
    {
      "cell_type": "code",
      "source": [
        "rank_4_tensor[:1, :1, :1, :]"
      ],
      "metadata": {
        "colab": {
          "base_uri": "https://localhost:8080/"
        },
        "id": "fScIvjCR7XgH",
        "outputId": "76598402-bab1-4a5e-c2d2-a1e3b30fa71f"
      },
      "execution_count": 115,
      "outputs": [
        {
          "output_type": "execute_result",
          "data": {
            "text/plain": [
              "<tf.Tensor: shape=(1, 1, 1, 5), dtype=float32, numpy=array([[[[0., 0., 0., 0., 0.]]]], dtype=float32)>"
            ]
          },
          "metadata": {},
          "execution_count": 115
        }
      ]
    },
    {
      "cell_type": "code",
      "source": [
        "# Create rank 2 tensors\n",
        "rank_2_tensor = tf.zeros(shape = [2, 2])\n",
        "rank_2_tensor2 = tf.constant([[1, 2],\n",
        "                              [3, 4]])\n",
        "\n",
        "rank_2_tensor.ndim, rank_2_tensor2.ndim"
      ],
      "metadata": {
        "colab": {
          "base_uri": "https://localhost:8080/"
        },
        "id": "rgqqKxq17EBg",
        "outputId": "4fa58296-d5d2-4ab7-9239-db416cf4926c"
      },
      "execution_count": 116,
      "outputs": [
        {
          "output_type": "execute_result",
          "data": {
            "text/plain": [
              "(2, 2)"
            ]
          },
          "metadata": {},
          "execution_count": 116
        }
      ]
    },
    {
      "cell_type": "code",
      "source": [
        "rank_2_tensor[:, -1], rank_2_tensor2[:, -1]"
      ],
      "metadata": {
        "colab": {
          "base_uri": "https://localhost:8080/"
        },
        "id": "kO6T6T7q72LB",
        "outputId": "76cbb82e-c8ca-42c9-bac5-77ecdcb4c990"
      },
      "execution_count": 117,
      "outputs": [
        {
          "output_type": "execute_result",
          "data": {
            "text/plain": [
              "(<tf.Tensor: shape=(2,), dtype=float32, numpy=array([0., 0.], dtype=float32)>,\n",
              " <tf.Tensor: shape=(2,), dtype=int32, numpy=array([2, 4], dtype=int32)>)"
            ]
          },
          "metadata": {},
          "execution_count": 117
        }
      ]
    },
    {
      "cell_type": "code",
      "source": [
        "# Add an extra dimension\n",
        "rank_3_tensor2 = rank_2_tensor2[..., tf.newaxis]\n",
        "\n",
        "rank_3_tensor2, rank_2_tensor2.ndim, rank_3_tensor2.ndim"
      ],
      "metadata": {
        "colab": {
          "base_uri": "https://localhost:8080/"
        },
        "id": "WpeSn0H18jmM",
        "outputId": "fe65cdf9-42be-4130-b700-528aa676da47"
      },
      "execution_count": 118,
      "outputs": [
        {
          "output_type": "execute_result",
          "data": {
            "text/plain": [
              "(<tf.Tensor: shape=(2, 2, 1), dtype=int32, numpy=\n",
              " array([[[1],\n",
              "         [2]],\n",
              " \n",
              "        [[3],\n",
              "         [4]]], dtype=int32)>, 2, 3)"
            ]
          },
          "metadata": {},
          "execution_count": 118
        }
      ]
    },
    {
      "cell_type": "code",
      "source": [
        "tf.expand_dims(rank_2_tensor2, axis = -1)"
      ],
      "metadata": {
        "colab": {
          "base_uri": "https://localhost:8080/"
        },
        "id": "KC7nepNR9TKG",
        "outputId": "101f117a-8e3a-415e-c513-49027e6ffd7a"
      },
      "execution_count": 119,
      "outputs": [
        {
          "output_type": "execute_result",
          "data": {
            "text/plain": [
              "<tf.Tensor: shape=(2, 2, 1), dtype=int32, numpy=\n",
              "array([[[1],\n",
              "        [2]],\n",
              "\n",
              "       [[3],\n",
              "        [4]]], dtype=int32)>"
            ]
          },
          "metadata": {},
          "execution_count": 119
        }
      ]
    },
    {
      "cell_type": "code",
      "source": [
        "tf.expand_dims(rank_2_tensor2, axis = 0)"
      ],
      "metadata": {
        "colab": {
          "base_uri": "https://localhost:8080/"
        },
        "id": "il3kMEqyBEAJ",
        "outputId": "d6cfbe1e-b4eb-4a17-bbd0-3335d85ff65f"
      },
      "execution_count": 120,
      "outputs": [
        {
          "output_type": "execute_result",
          "data": {
            "text/plain": [
              "<tf.Tensor: shape=(1, 2, 2), dtype=int32, numpy=\n",
              "array([[[1, 2],\n",
              "        [3, 4]]], dtype=int32)>"
            ]
          },
          "metadata": {},
          "execution_count": 120
        }
      ]
    },
    {
      "cell_type": "markdown",
      "source": [
        "### Manipulating tensors (tensor operations)\n",
        "\n",
        "**Basic operations**\n",
        "`+`, `-`, `*`, `/`"
      ],
      "metadata": {
        "id": "1VDyjiPpBntM"
      }
    },
    {
      "cell_type": "code",
      "source": [
        "tensor = tf.constant(([10, 7], \n",
        "                      [3, 4]))\n",
        "\n",
        "tensor + 10"
      ],
      "metadata": {
        "colab": {
          "base_uri": "https://localhost:8080/"
        },
        "id": "9WIvomaBCRtZ",
        "outputId": "e8b81d5d-4e76-4df2-ac4a-9d99d9dbc6f6"
      },
      "execution_count": 121,
      "outputs": [
        {
          "output_type": "execute_result",
          "data": {
            "text/plain": [
              "<tf.Tensor: shape=(2, 2), dtype=int32, numpy=\n",
              "array([[20, 17],\n",
              "       [13, 14]], dtype=int32)>"
            ]
          },
          "metadata": {},
          "execution_count": 121
        }
      ]
    },
    {
      "cell_type": "code",
      "source": [
        "# Original tensor is unchanged\n",
        "\n",
        "tensor"
      ],
      "metadata": {
        "colab": {
          "base_uri": "https://localhost:8080/"
        },
        "id": "awze9KgVCbJG",
        "outputId": "99749532-a25d-4b38-9c26-03bf753c98c3"
      },
      "execution_count": 122,
      "outputs": [
        {
          "output_type": "execute_result",
          "data": {
            "text/plain": [
              "<tf.Tensor: shape=(2, 2), dtype=int32, numpy=\n",
              "array([[10,  7],\n",
              "       [ 3,  4]], dtype=int32)>"
            ]
          },
          "metadata": {},
          "execution_count": 122
        }
      ]
    },
    {
      "cell_type": "code",
      "source": [
        "tensor * 10"
      ],
      "metadata": {
        "colab": {
          "base_uri": "https://localhost:8080/"
        },
        "id": "Lzwqir5cCshC",
        "outputId": "b6bc448b-9f83-43d6-d2c1-a780908a9369"
      },
      "execution_count": 123,
      "outputs": [
        {
          "output_type": "execute_result",
          "data": {
            "text/plain": [
              "<tf.Tensor: shape=(2, 2), dtype=int32, numpy=\n",
              "array([[100,  70],\n",
              "       [ 30,  40]], dtype=int32)>"
            ]
          },
          "metadata": {},
          "execution_count": 123
        }
      ]
    },
    {
      "cell_type": "code",
      "source": [
        "tensor / 10"
      ],
      "metadata": {
        "colab": {
          "base_uri": "https://localhost:8080/"
        },
        "id": "gD21TSD0C5BI",
        "outputId": "6c8401c4-6735-4594-d906-5c9fe57b9bef"
      },
      "execution_count": 124,
      "outputs": [
        {
          "output_type": "execute_result",
          "data": {
            "text/plain": [
              "<tf.Tensor: shape=(2, 2), dtype=float64, numpy=\n",
              "array([[1. , 0.7],\n",
              "       [0.3, 0.4]])>"
            ]
          },
          "metadata": {},
          "execution_count": 124
        }
      ]
    },
    {
      "cell_type": "code",
      "source": [
        "tensor - 10"
      ],
      "metadata": {
        "colab": {
          "base_uri": "https://localhost:8080/"
        },
        "id": "KcHxmV6FC75G",
        "outputId": "e028f335-fb65-4eb9-9277-86b892a59f36"
      },
      "execution_count": 125,
      "outputs": [
        {
          "output_type": "execute_result",
          "data": {
            "text/plain": [
              "<tf.Tensor: shape=(2, 2), dtype=int32, numpy=\n",
              "array([[ 0, -3],\n",
              "       [-7, -6]], dtype=int32)>"
            ]
          },
          "metadata": {},
          "execution_count": 125
        }
      ]
    },
    {
      "cell_type": "code",
      "source": [
        "tf.multiply(tensor, 100) # Faster on gpu"
      ],
      "metadata": {
        "colab": {
          "base_uri": "https://localhost:8080/"
        },
        "id": "f4oqNWUPC-Jg",
        "outputId": "41e499df-31be-4687-c423-681c60e5dc68"
      },
      "execution_count": 126,
      "outputs": [
        {
          "output_type": "execute_result",
          "data": {
            "text/plain": [
              "<tf.Tensor: shape=(2, 2), dtype=int32, numpy=\n",
              "array([[1000,  700],\n",
              "       [ 300,  400]], dtype=int32)>"
            ]
          },
          "metadata": {},
          "execution_count": 126
        }
      ]
    },
    {
      "cell_type": "code",
      "source": [
        "tensor"
      ],
      "metadata": {
        "colab": {
          "base_uri": "https://localhost:8080/"
        },
        "id": "Z3biXWVODIoS",
        "outputId": "1417bc50-20a5-4db9-f463-d030f7745185"
      },
      "execution_count": 127,
      "outputs": [
        {
          "output_type": "execute_result",
          "data": {
            "text/plain": [
              "<tf.Tensor: shape=(2, 2), dtype=int32, numpy=\n",
              "array([[10,  7],\n",
              "       [ 3,  4]], dtype=int32)>"
            ]
          },
          "metadata": {},
          "execution_count": 127
        }
      ]
    },
    {
      "cell_type": "markdown",
      "source": [
        "**Matrix multiplication**\n",
        "\n",
        "One of the most common operations"
      ],
      "metadata": {
        "id": "tGrEErvcD93a"
      }
    },
    {
      "cell_type": "code",
      "source": [
        "matrix1 = tf.constant([[2, 4],\n",
        "                       [4, 6]])\n",
        "matrix2 = tf.constant([[3, 2],\n",
        "                       [6, 6]])\n",
        "\n",
        "tf.matmul(matrix1, matrix2)"
      ],
      "metadata": {
        "colab": {
          "base_uri": "https://localhost:8080/"
        },
        "id": "L4LzhdbQDnbK",
        "outputId": "18351932-7971-42e3-cb7d-cac1bff77872"
      },
      "execution_count": 128,
      "outputs": [
        {
          "output_type": "execute_result",
          "data": {
            "text/plain": [
              "<tf.Tensor: shape=(2, 2), dtype=int32, numpy=\n",
              "array([[30, 28],\n",
              "       [48, 44]], dtype=int32)>"
            ]
          },
          "metadata": {},
          "execution_count": 128
        }
      ]
    },
    {
      "cell_type": "code",
      "source": [
        "matrix1 @ matrix2"
      ],
      "metadata": {
        "colab": {
          "base_uri": "https://localhost:8080/"
        },
        "id": "VMos1r3yF_jM",
        "outputId": "91005d23-1bb7-42d6-e21f-7eefecce0ca2"
      },
      "execution_count": 129,
      "outputs": [
        {
          "output_type": "execute_result",
          "data": {
            "text/plain": [
              "<tf.Tensor: shape=(2, 2), dtype=int32, numpy=\n",
              "array([[30, 28],\n",
              "       [48, 44]], dtype=int32)>"
            ]
          },
          "metadata": {},
          "execution_count": 129
        }
      ]
    },
    {
      "cell_type": "code",
      "source": [
        "X = tf.constant([[2, 3],\n",
        "                 [4, 5],\n",
        "                 [5, 6]])\n",
        "Y = tf.constant([[3, 4],\n",
        "                 [5, 6],\n",
        "                 [7, 8]])\n",
        "\n",
        "reshaped_Y = tf.reshape(Y, shape = (2, 3))\n",
        "\n",
        "reshaped_X = tf.reshape(X, shape = (2, 3))\n",
        "\n",
        "tf.matmul(X, reshaped_Y), tf.matmul(X, reshaped_Y)\n"
      ],
      "metadata": {
        "colab": {
          "base_uri": "https://localhost:8080/"
        },
        "id": "UJrqCkJEXbd_",
        "outputId": "3301713d-bcee-46e8-bdd6-a01100f15ce8"
      },
      "execution_count": 130,
      "outputs": [
        {
          "output_type": "execute_result",
          "data": {
            "text/plain": [
              "(<tf.Tensor: shape=(3, 3), dtype=int32, numpy=\n",
              " array([[24, 29, 34],\n",
              "        [42, 51, 60],\n",
              "        [51, 62, 73]], dtype=int32)>,\n",
              " <tf.Tensor: shape=(3, 3), dtype=int32, numpy=\n",
              " array([[24, 29, 34],\n",
              "        [42, 51, 60],\n",
              "        [51, 62, 73]], dtype=int32)>)"
            ]
          },
          "metadata": {},
          "execution_count": 130
        }
      ]
    },
    {
      "cell_type": "code",
      "source": [
        "# Also doable with transpose\n",
        "\n",
        "tf.transpose(X), tf.reshape(X, shape = (2, 3))"
      ],
      "metadata": {
        "colab": {
          "base_uri": "https://localhost:8080/"
        },
        "id": "FtkyhW2wa7hW",
        "outputId": "103faff8-6fd2-4d96-94af-0763b594f405"
      },
      "execution_count": 131,
      "outputs": [
        {
          "output_type": "execute_result",
          "data": {
            "text/plain": [
              "(<tf.Tensor: shape=(2, 3), dtype=int32, numpy=\n",
              " array([[2, 4, 5],\n",
              "        [3, 5, 6]], dtype=int32)>,\n",
              " <tf.Tensor: shape=(2, 3), dtype=int32, numpy=\n",
              " array([[2, 3, 4],\n",
              "        [5, 5, 6]], dtype=int32)>)"
            ]
          },
          "metadata": {},
          "execution_count": 131
        }
      ]
    },
    {
      "cell_type": "code",
      "source": [
        "tf.matmul(tf.transpose(matrix1), matrix2)"
      ],
      "metadata": {
        "id": "gzZ_HWHLcj0d",
        "colab": {
          "base_uri": "https://localhost:8080/"
        },
        "outputId": "598ba7aa-827e-49a7-f490-c29d04c00de7"
      },
      "execution_count": 132,
      "outputs": [
        {
          "output_type": "execute_result",
          "data": {
            "text/plain": [
              "<tf.Tensor: shape=(2, 2), dtype=int32, numpy=\n",
              "array([[30, 28],\n",
              "       [48, 44]], dtype=int32)>"
            ]
          },
          "metadata": {},
          "execution_count": 132
        }
      ]
    },
    {
      "cell_type": "markdown",
      "source": [
        "**The dot product**\n",
        "\n",
        "Matrix multiplication is also referred to as the dot product.\n",
        "\n",
        "* `tf.matmul()`\n",
        "* `tf.tensordot()`"
      ],
      "metadata": {
        "id": "ZFkvvyHTIWye"
      }
    },
    {
      "cell_type": "code",
      "source": [
        "tf.tensordot(tf.transpose(X), Y, axes = 1)"
      ],
      "metadata": {
        "colab": {
          "base_uri": "https://localhost:8080/"
        },
        "id": "wk4KtXkQIioc",
        "outputId": "b0e3e308-a2bd-4f45-e277-79154d194bd7"
      },
      "execution_count": 133,
      "outputs": [
        {
          "output_type": "execute_result",
          "data": {
            "text/plain": [
              "<tf.Tensor: shape=(2, 2), dtype=int32, numpy=\n",
              "array([[61, 72],\n",
              "       [76, 90]], dtype=int32)>"
            ]
          },
          "metadata": {},
          "execution_count": 133
        }
      ]
    },
    {
      "cell_type": "code",
      "source": [
        "tf.matmul(X, tf.transpose(Y))"
      ],
      "metadata": {
        "colab": {
          "base_uri": "https://localhost:8080/"
        },
        "id": "B_Dvz6m_I2c9",
        "outputId": "a2e0acd1-e4af-4a4e-9b03-401d10db5072"
      },
      "execution_count": 134,
      "outputs": [
        {
          "output_type": "execute_result",
          "data": {
            "text/plain": [
              "<tf.Tensor: shape=(3, 3), dtype=int32, numpy=\n",
              "array([[18, 28, 38],\n",
              "       [32, 50, 68],\n",
              "       [39, 61, 83]], dtype=int32)>"
            ]
          },
          "metadata": {},
          "execution_count": 134
        }
      ]
    },
    {
      "cell_type": "code",
      "source": [
        "tf.matmul(X, tf.reshape(Y, shape = (2, 3)))"
      ],
      "metadata": {
        "colab": {
          "base_uri": "https://localhost:8080/"
        },
        "id": "n9K9_GVTKS8U",
        "outputId": "bcdcf293-18ec-4183-a94e-30e33eddfc99"
      },
      "execution_count": 135,
      "outputs": [
        {
          "output_type": "execute_result",
          "data": {
            "text/plain": [
              "<tf.Tensor: shape=(3, 3), dtype=int32, numpy=\n",
              "array([[24, 29, 34],\n",
              "       [42, 51, 60],\n",
              "       [51, 62, 73]], dtype=int32)>"
            ]
          },
          "metadata": {},
          "execution_count": 135
        }
      ]
    },
    {
      "cell_type": "code",
      "source": [
        "# Check the values of Y , reshape Y and transposed Y\n",
        "print(f\"Normal Y: \\n{Y} \\n\")\n",
        "\n",
        "print(f\"Y reshaped to (2, 3): \\n{tf.reshape(Y, (2, 3))}\")\n",
        "\n",
        "print(f\"Y transposed: \\n{tf.transpose(Y)}\")"
      ],
      "metadata": {
        "colab": {
          "base_uri": "https://localhost:8080/"
        },
        "id": "AaK4BwYAKaRH",
        "outputId": "1b300c29-a78b-42ba-ca28-b82ac2cfeded"
      },
      "execution_count": 136,
      "outputs": [
        {
          "output_type": "stream",
          "name": "stdout",
          "text": [
            "Normal Y: \n",
            "[[3 4]\n",
            " [5 6]\n",
            " [7 8]] \n",
            "\n",
            "Y reshaped to (2, 3): \n",
            "[[3 4 5]\n",
            " [6 7 8]]\n",
            "Y transposed: \n",
            "[[3 5 7]\n",
            " [4 6 8]]\n"
          ]
        }
      ]
    },
    {
      "cell_type": "markdown",
      "source": [
        "Generally, when performing matrix multiplication on two tensors and one axes doesn't line up you should usually use `tf.transpose()`\n",
        "\n",
        "* `tf.matmul()`\n",
        "* `tf.tensordot()`\n",
        "* `@`"
      ],
      "metadata": {
        "id": "s1teC8zSjvZq"
      }
    },
    {
      "cell_type": "code",
      "source": [
        "B = tf.constant([[1.2, 1.4],\n",
        "                [3.5, 6.7]])\n",
        "C = tf.constant([[1, 1],\n",
        "                [3, 6]])\n",
        "\n",
        "B.dtype, C.dtype"
      ],
      "metadata": {
        "id": "XpD1o84Jj7Be",
        "colab": {
          "base_uri": "https://localhost:8080/"
        },
        "outputId": "50917feb-3011-45ff-edff-95dfb5e18fe7"
      },
      "execution_count": 137,
      "outputs": [
        {
          "output_type": "execute_result",
          "data": {
            "text/plain": [
              "(tf.float32, tf.int32)"
            ]
          },
          "metadata": {},
          "execution_count": 137
        }
      ]
    },
    {
      "cell_type": "code",
      "source": [
        "# Change to float16\n",
        "\n",
        "B = tf.cast(B, dtype = tf.float16)\n",
        "C = tf.cast(C, dtype = tf.int16)\n",
        "\n",
        "B, C"
      ],
      "metadata": {
        "colab": {
          "base_uri": "https://localhost:8080/"
        },
        "id": "ImuxMv-8WoZf",
        "outputId": "6804b5e9-60c5-47cd-c3b9-a1d06bbba748"
      },
      "execution_count": 138,
      "outputs": [
        {
          "output_type": "execute_result",
          "data": {
            "text/plain": [
              "(<tf.Tensor: shape=(2, 2), dtype=float16, numpy=\n",
              " array([[1.2, 1.4],\n",
              "        [3.5, 6.7]], dtype=float16)>,\n",
              " <tf.Tensor: shape=(2, 2), dtype=int16, numpy=\n",
              " array([[1, 1],\n",
              "        [3, 6]], dtype=int16)>)"
            ]
          },
          "metadata": {},
          "execution_count": 138
        }
      ]
    },
    {
      "cell_type": "code",
      "source": [
        "B = tf.cast(B, dtype = tf.float32)\n",
        "\n",
        "B"
      ],
      "metadata": {
        "colab": {
          "base_uri": "https://localhost:8080/"
        },
        "id": "z3-mKA8IXORk",
        "outputId": "7a11dcbd-6134-4425-af38-f45e9728fcac"
      },
      "execution_count": 139,
      "outputs": [
        {
          "output_type": "execute_result",
          "data": {
            "text/plain": [
              "<tf.Tensor: shape=(2, 2), dtype=float32, numpy=\n",
              "array([[1.2001953, 1.4003906],\n",
              "       [3.5      , 6.6992188]], dtype=float32)>"
            ]
          },
          "metadata": {},
          "execution_count": 139
        }
      ]
    },
    {
      "cell_type": "markdown",
      "source": [
        "### Aggregating tensors\n",
        "\n",
        "Aggregating tensors is condensing them from multiple values down to a smaller amount of values.\n",
        "\n",
        "* Get the minimum\n",
        "* Get the maximum\n",
        "* Get the mean of a tensor\n",
        "* Get the sum of a tensor\n",
        "\n"
      ],
      "metadata": {
        "id": "rlHuyWz8X0OB"
      }
    },
    {
      "cell_type": "code",
      "source": [
        "# Get the absolute values\n",
        "\n",
        "C = tf.constant([-7, -10])\n",
        "\n",
        "C"
      ],
      "metadata": {
        "id": "StwAxCx-X3AG",
        "colab": {
          "base_uri": "https://localhost:8080/"
        },
        "outputId": "5be1814f-7e37-463b-863c-bc5b523d195e"
      },
      "execution_count": 140,
      "outputs": [
        {
          "output_type": "execute_result",
          "data": {
            "text/plain": [
              "<tf.Tensor: shape=(2,), dtype=int32, numpy=array([ -7, -10], dtype=int32)>"
            ]
          },
          "metadata": {},
          "execution_count": 140
        }
      ]
    },
    {
      "cell_type": "code",
      "source": [
        "tf.abs(C)"
      ],
      "metadata": {
        "colab": {
          "base_uri": "https://localhost:8080/"
        },
        "id": "hTZSTEhA8FnV",
        "outputId": "dfa276fe-0623-4d3d-e766-da16d3a00303"
      },
      "execution_count": 141,
      "outputs": [
        {
          "output_type": "execute_result",
          "data": {
            "text/plain": [
              "<tf.Tensor: shape=(2,), dtype=int32, numpy=array([ 7, 10], dtype=int32)>"
            ]
          },
          "metadata": {},
          "execution_count": 141
        }
      ]
    },
    {
      "cell_type": "code",
      "source": [
        "tf.reduce_max(C)"
      ],
      "metadata": {
        "colab": {
          "base_uri": "https://localhost:8080/"
        },
        "id": "CsFpBwxl8IGe",
        "outputId": "1b732431-a527-4857-e931-a27850a3756b"
      },
      "execution_count": 142,
      "outputs": [
        {
          "output_type": "execute_result",
          "data": {
            "text/plain": [
              "<tf.Tensor: shape=(), dtype=int32, numpy=-7>"
            ]
          },
          "metadata": {},
          "execution_count": 142
        }
      ]
    },
    {
      "cell_type": "code",
      "source": [
        "tf.reduce_min(C)"
      ],
      "metadata": {
        "colab": {
          "base_uri": "https://localhost:8080/"
        },
        "id": "25UB4rXN8nM8",
        "outputId": "ed4f5d79-a4cb-41da-d986-461eb5a2fe5e"
      },
      "execution_count": 143,
      "outputs": [
        {
          "output_type": "execute_result",
          "data": {
            "text/plain": [
              "<tf.Tensor: shape=(), dtype=int32, numpy=-10>"
            ]
          },
          "metadata": {},
          "execution_count": 143
        }
      ]
    },
    {
      "cell_type": "code",
      "source": [
        "tf.reduce_mean(C)"
      ],
      "metadata": {
        "colab": {
          "base_uri": "https://localhost:8080/"
        },
        "id": "5s9nYGJz8v7J",
        "outputId": "d8e631dc-02f6-4cc6-c0a9-9adb590a397f"
      },
      "execution_count": 144,
      "outputs": [
        {
          "output_type": "execute_result",
          "data": {
            "text/plain": [
              "<tf.Tensor: shape=(), dtype=int32, numpy=-8>"
            ]
          },
          "metadata": {},
          "execution_count": 144
        }
      ]
    },
    {
      "cell_type": "code",
      "source": [
        "tf.reduce_sum(C)"
      ],
      "metadata": {
        "colab": {
          "base_uri": "https://localhost:8080/"
        },
        "id": "xqFLL-nC80ih",
        "outputId": "a24e7870-4bdc-44dd-aaa7-1c3c7844eb04"
      },
      "execution_count": 145,
      "outputs": [
        {
          "output_type": "execute_result",
          "data": {
            "text/plain": [
              "<tf.Tensor: shape=(), dtype=int32, numpy=-17>"
            ]
          },
          "metadata": {},
          "execution_count": 145
        }
      ]
    },
    {
      "cell_type": "code",
      "source": [
        "D = tf.constant(np.random.randint(0, 100, size = 60))\n",
        "\n",
        "D"
      ],
      "metadata": {
        "colab": {
          "base_uri": "https://localhost:8080/"
        },
        "id": "la-x0z6K8-zz",
        "outputId": "c314e3a9-61f6-4eb7-8e78-bf71a75fe6ec"
      },
      "execution_count": 146,
      "outputs": [
        {
          "output_type": "execute_result",
          "data": {
            "text/plain": [
              "<tf.Tensor: shape=(60,), dtype=int64, numpy=\n",
              "array([73,  2,  6, 87, 67,  4, 13, 30, 45,  1, 12, 53, 55, 15, 27, 65, 31,\n",
              "       73,  7, 88, 41,  8, 49, 32, 82, 97, 64, 51, 25, 97, 46, 78, 46, 44,\n",
              "       35, 30, 36, 12, 61, 92, 20,  6, 65, 28, 93, 78, 10, 21, 24, 26,  4,\n",
              "       77, 79, 58, 89, 31,  3, 10, 53, 95])>"
            ]
          },
          "metadata": {},
          "execution_count": 146
        }
      ]
    },
    {
      "cell_type": "code",
      "source": [
        "tf.size(D), D.shape, D.ndim"
      ],
      "metadata": {
        "colab": {
          "base_uri": "https://localhost:8080/"
        },
        "id": "KzfdVYkZ9XmQ",
        "outputId": "6dfdeb20-ff37-4713-fb57-07202372e3e4"
      },
      "execution_count": 147,
      "outputs": [
        {
          "output_type": "execute_result",
          "data": {
            "text/plain": [
              "(<tf.Tensor: shape=(), dtype=int32, numpy=60>, TensorShape([60]), 1)"
            ]
          },
          "metadata": {},
          "execution_count": 147
        }
      ]
    },
    {
      "cell_type": "code",
      "source": [
        "tf.reduce_min(D), tf.reduce_max(D), tf.reduce_sum(D), tf.reduce_mean(D)"
      ],
      "metadata": {
        "colab": {
          "base_uri": "https://localhost:8080/"
        },
        "id": "iiDV8oVQJ1Xa",
        "outputId": "05d6f9c1-9206-4228-e65e-c8d1cc6e768d"
      },
      "execution_count": 148,
      "outputs": [
        {
          "output_type": "execute_result",
          "data": {
            "text/plain": [
              "(<tf.Tensor: shape=(), dtype=int64, numpy=1>,\n",
              " <tf.Tensor: shape=(), dtype=int64, numpy=97>,\n",
              " <tf.Tensor: shape=(), dtype=int64, numpy=2650>,\n",
              " <tf.Tensor: shape=(), dtype=int64, numpy=44>)"
            ]
          },
          "metadata": {},
          "execution_count": 148
        }
      ]
    },
    {
      "cell_type": "code",
      "source": [
        "HIGH = tf.constant(np.random.randint(0, 10000, size = 10000))\n",
        "\n",
        "HIGH"
      ],
      "metadata": {
        "colab": {
          "base_uri": "https://localhost:8080/"
        },
        "id": "xwfRQ4XsKvAp",
        "outputId": "88cd2c00-a7a6-480d-bfda-2d90db8bd39b"
      },
      "execution_count": 149,
      "outputs": [
        {
          "output_type": "execute_result",
          "data": {
            "text/plain": [
              "<tf.Tensor: shape=(10000,), dtype=int64, numpy=array([7003, 9226, 2210, ...,  431, 9546, 2473])>"
            ]
          },
          "metadata": {},
          "execution_count": 149
        }
      ]
    },
    {
      "cell_type": "code",
      "source": [
        "tf.reduce_min(HIGH), tf.reduce_max(HIGH), tf.reduce_sum(HIGH), tf.reduce_mean(HIGH)"
      ],
      "metadata": {
        "colab": {
          "base_uri": "https://localhost:8080/"
        },
        "id": "SSD4HfGALWge",
        "outputId": "3de66a60-1dbd-4895-a02b-bcf979379d83"
      },
      "execution_count": 150,
      "outputs": [
        {
          "output_type": "execute_result",
          "data": {
            "text/plain": [
              "(<tf.Tensor: shape=(), dtype=int64, numpy=1>,\n",
              " <tf.Tensor: shape=(), dtype=int64, numpy=9998>,\n",
              " <tf.Tensor: shape=(), dtype=int64, numpy=50038852>,\n",
              " <tf.Tensor: shape=(), dtype=int64, numpy=5003>)"
            ]
          },
          "metadata": {},
          "execution_count": 150
        }
      ]
    },
    {
      "cell_type": "code",
      "source": [
        "# Finding the varuance of our tensor\n",
        "\n",
        "import tensorflow_probability as tfp\n",
        "\n",
        "tfp.stats.variance(HIGH)"
      ],
      "metadata": {
        "colab": {
          "base_uri": "https://localhost:8080/"
        },
        "id": "fgNXFsNrLrYS",
        "outputId": "09f860b7-2766-456f-dfd6-82b2d05fa54a"
      },
      "execution_count": 151,
      "outputs": [
        {
          "output_type": "execute_result",
          "data": {
            "text/plain": [
              "<tf.Tensor: shape=(), dtype=int64, numpy=8372047>"
            ]
          },
          "metadata": {},
          "execution_count": 151
        }
      ]
    },
    {
      "cell_type": "code",
      "source": [
        "# Find the standard deviation\n",
        "\n",
        "tf.math.reduce_std(tf.cast(HIGH, dtype = tf.float32))"
      ],
      "metadata": {
        "colab": {
          "base_uri": "https://localhost:8080/"
        },
        "id": "L_BViJAlWlUI",
        "outputId": "937a4081-6cc3-417a-c7f5-2f265a9621da"
      },
      "execution_count": 152,
      "outputs": [
        {
          "output_type": "execute_result",
          "data": {
            "text/plain": [
              "<tf.Tensor: shape=(), dtype=float32, numpy=2893.449>"
            ]
          },
          "metadata": {},
          "execution_count": 152
        }
      ]
    },
    {
      "cell_type": "code",
      "source": [
        "tf.math.reduce_variance(tf.cast(HIGH, dtype = tf.float32))"
      ],
      "metadata": {
        "colab": {
          "base_uri": "https://localhost:8080/"
        },
        "id": "Ut5z2YR9Xw2c",
        "outputId": "31014a6d-481b-490a-b4d8-e089ed497d41"
      },
      "execution_count": 153,
      "outputs": [
        {
          "output_type": "execute_result",
          "data": {
            "text/plain": [
              "<tf.Tensor: shape=(), dtype=float32, numpy=8372047.0>"
            ]
          },
          "metadata": {},
          "execution_count": 153
        }
      ]
    },
    {
      "cell_type": "markdown",
      "source": [
        "### **Find the positional maximum and minumum**"
      ],
      "metadata": {
        "id": "TQ_PcEgRWyoW"
      }
    },
    {
      "cell_type": "code",
      "source": [
        "# Create a new tensor for finding positional maximum and minimum\n",
        "\n",
        "tf.random.set_seed(42)\n",
        "\n",
        "F = tf.random.uniform(shape = [50])\n",
        "F"
      ],
      "metadata": {
        "colab": {
          "base_uri": "https://localhost:8080/"
        },
        "id": "2m3qEcEzYBKW",
        "outputId": "d700ebcd-0ffa-4e8e-ce5a-bd19c46f02d8"
      },
      "execution_count": 154,
      "outputs": [
        {
          "output_type": "execute_result",
          "data": {
            "text/plain": [
              "<tf.Tensor: shape=(50,), dtype=float32, numpy=\n",
              "array([0.6645621 , 0.44100678, 0.3528825 , 0.46448255, 0.03366041,\n",
              "       0.68467236, 0.74011743, 0.8724445 , 0.22632635, 0.22319686,\n",
              "       0.3103881 , 0.7223358 , 0.13318717, 0.5480639 , 0.5746088 ,\n",
              "       0.8996835 , 0.00946367, 0.5212307 , 0.6345445 , 0.1993283 ,\n",
              "       0.72942245, 0.54583454, 0.10756552, 0.6767061 , 0.6602763 ,\n",
              "       0.33695042, 0.60141766, 0.21062577, 0.8527372 , 0.44062173,\n",
              "       0.9485276 , 0.23752594, 0.81179297, 0.5263394 , 0.494308  ,\n",
              "       0.21612847, 0.8457197 , 0.8718841 , 0.3083862 , 0.6868038 ,\n",
              "       0.23764038, 0.7817228 , 0.9671384 , 0.06870162, 0.79873943,\n",
              "       0.66028714, 0.5871513 , 0.16461694, 0.7381023 , 0.32054043],\n",
              "      dtype=float32)>"
            ]
          },
          "metadata": {},
          "execution_count": 154
        }
      ]
    },
    {
      "cell_type": "code",
      "source": [
        "tf.reduce_max(F), tf.argmax(F)"
      ],
      "metadata": {
        "colab": {
          "base_uri": "https://localhost:8080/"
        },
        "id": "Zmr-OyiGY7y4",
        "outputId": "a0d48412-cad5-419a-ef13-59d60de19747"
      },
      "execution_count": 155,
      "outputs": [
        {
          "output_type": "execute_result",
          "data": {
            "text/plain": [
              "(<tf.Tensor: shape=(), dtype=float32, numpy=0.9671384>,\n",
              " <tf.Tensor: shape=(), dtype=int64, numpy=42>)"
            ]
          },
          "metadata": {},
          "execution_count": 155
        }
      ]
    },
    {
      "cell_type": "code",
      "source": [
        "F[tf.argmax(F)]"
      ],
      "metadata": {
        "colab": {
          "base_uri": "https://localhost:8080/"
        },
        "id": "Lw0Swq6PZp2n",
        "outputId": "b1a60421-054e-4fcd-a648-ca8b2f601c43"
      },
      "execution_count": 156,
      "outputs": [
        {
          "output_type": "execute_result",
          "data": {
            "text/plain": [
              "<tf.Tensor: shape=(), dtype=float32, numpy=0.9671384>"
            ]
          },
          "metadata": {},
          "execution_count": 156
        }
      ]
    },
    {
      "cell_type": "code",
      "source": [
        "F[tf.argmax(F)] == tf.reduce_max(F)"
      ],
      "metadata": {
        "colab": {
          "base_uri": "https://localhost:8080/"
        },
        "id": "yZGvndILZ5_J",
        "outputId": "d29b6635-9e12-4e54-fad4-5d0084f6c924"
      },
      "execution_count": 157,
      "outputs": [
        {
          "output_type": "execute_result",
          "data": {
            "text/plain": [
              "<tf.Tensor: shape=(), dtype=bool, numpy=True>"
            ]
          },
          "metadata": {},
          "execution_count": 157
        }
      ]
    },
    {
      "cell_type": "code",
      "source": [
        "tf.reduce_min(F), tf.argmin(F)"
      ],
      "metadata": {
        "colab": {
          "base_uri": "https://localhost:8080/"
        },
        "id": "AMWyzWDnaI8L",
        "outputId": "0f41be6a-3cb1-4e5c-e79c-027e048e189e"
      },
      "execution_count": 158,
      "outputs": [
        {
          "output_type": "execute_result",
          "data": {
            "text/plain": [
              "(<tf.Tensor: shape=(), dtype=float32, numpy=0.009463668>,\n",
              " <tf.Tensor: shape=(), dtype=int64, numpy=16>)"
            ]
          },
          "metadata": {},
          "execution_count": 158
        }
      ]
    },
    {
      "cell_type": "code",
      "source": [
        "F[tf.argmin(F)]"
      ],
      "metadata": {
        "colab": {
          "base_uri": "https://localhost:8080/"
        },
        "id": "vgY3I6bMaTxx",
        "outputId": "9b409baa-59d8-499d-94dc-ee3ed685340e"
      },
      "execution_count": 159,
      "outputs": [
        {
          "output_type": "execute_result",
          "data": {
            "text/plain": [
              "<tf.Tensor: shape=(), dtype=float32, numpy=0.009463668>"
            ]
          },
          "metadata": {},
          "execution_count": 159
        }
      ]
    },
    {
      "cell_type": "markdown",
      "source": [
        "### Sqeezing a tensor (removing all single dimensions)"
      ],
      "metadata": {
        "id": "XEgUVD7Saej9"
      }
    },
    {
      "cell_type": "code",
      "source": [
        "G = tf.constant(tf.random.uniform(shape = [50]), shape = (1, 1, 1, 1, 50))\n",
        "\n",
        "G"
      ],
      "metadata": {
        "colab": {
          "base_uri": "https://localhost:8080/"
        },
        "id": "ILjIXQ1JatHp",
        "outputId": "8fd71ef5-0cc3-4cff-a9f1-acc09d21bf79"
      },
      "execution_count": 160,
      "outputs": [
        {
          "output_type": "execute_result",
          "data": {
            "text/plain": [
              "<tf.Tensor: shape=(1, 1, 1, 1, 50), dtype=float32, numpy=\n",
              "array([[[[[0.68789124, 0.48447883, 0.9309944 , 0.252187  , 0.73115396,\n",
              "           0.89256823, 0.94674826, 0.7493341 , 0.34925628, 0.54718256,\n",
              "           0.26160395, 0.69734323, 0.11962581, 0.53484344, 0.7148968 ,\n",
              "           0.87501776, 0.33967495, 0.17377627, 0.4418521 , 0.9008261 ,\n",
              "           0.13803864, 0.12217975, 0.5754491 , 0.9417181 , 0.9186585 ,\n",
              "           0.59708476, 0.6109482 , 0.82086265, 0.83269787, 0.8915849 ,\n",
              "           0.01377225, 0.49807465, 0.57503664, 0.6856195 , 0.75972784,\n",
              "           0.908944  , 0.40900218, 0.8765154 , 0.53890026, 0.42733097,\n",
              "           0.401173  , 0.66623247, 0.16348064, 0.18220246, 0.97040176,\n",
              "           0.06139731, 0.53034747, 0.9869994 , 0.4746945 , 0.8646754 ]]]]],\n",
              "      dtype=float32)>"
            ]
          },
          "metadata": {},
          "execution_count": 160
        }
      ]
    },
    {
      "cell_type": "code",
      "source": [
        "G.shape"
      ],
      "metadata": {
        "colab": {
          "base_uri": "https://localhost:8080/"
        },
        "id": "Z6ksyE5Va2wN",
        "outputId": "a7bfc744-5d36-4a35-e1d2-3f5ca7694c17"
      },
      "execution_count": 161,
      "outputs": [
        {
          "output_type": "execute_result",
          "data": {
            "text/plain": [
              "TensorShape([1, 1, 1, 1, 50])"
            ]
          },
          "metadata": {},
          "execution_count": 161
        }
      ]
    },
    {
      "cell_type": "code",
      "source": [
        "G_squeezed = tf.squeeze(G)\n",
        "\n",
        "G_squeezed, G_squeezed.shape"
      ],
      "metadata": {
        "colab": {
          "base_uri": "https://localhost:8080/"
        },
        "id": "M9imh-wkbH8W",
        "outputId": "16d58855-1e89-4e60-9fde-f125e7cf38b2"
      },
      "execution_count": 162,
      "outputs": [
        {
          "output_type": "execute_result",
          "data": {
            "text/plain": [
              "(<tf.Tensor: shape=(50,), dtype=float32, numpy=\n",
              " array([0.68789124, 0.48447883, 0.9309944 , 0.252187  , 0.73115396,\n",
              "        0.89256823, 0.94674826, 0.7493341 , 0.34925628, 0.54718256,\n",
              "        0.26160395, 0.69734323, 0.11962581, 0.53484344, 0.7148968 ,\n",
              "        0.87501776, 0.33967495, 0.17377627, 0.4418521 , 0.9008261 ,\n",
              "        0.13803864, 0.12217975, 0.5754491 , 0.9417181 , 0.9186585 ,\n",
              "        0.59708476, 0.6109482 , 0.82086265, 0.83269787, 0.8915849 ,\n",
              "        0.01377225, 0.49807465, 0.57503664, 0.6856195 , 0.75972784,\n",
              "        0.908944  , 0.40900218, 0.8765154 , 0.53890026, 0.42733097,\n",
              "        0.401173  , 0.66623247, 0.16348064, 0.18220246, 0.97040176,\n",
              "        0.06139731, 0.53034747, 0.9869994 , 0.4746945 , 0.8646754 ],\n",
              "       dtype=float32)>, TensorShape([50]))"
            ]
          },
          "metadata": {},
          "execution_count": 162
        }
      ]
    },
    {
      "cell_type": "markdown",
      "source": [
        "One-hot encoding tensors"
      ],
      "metadata": {
        "id": "bDlxkcKVbL_G"
      }
    },
    {
      "cell_type": "code",
      "source": [
        "# Create a list of indices\n",
        "\n",
        "some_list = [0, 1, 2, 3]\n",
        "\n",
        "# One hot encode our list\n",
        "\n",
        "tf.one_hot(some_list, depth = 4)"
      ],
      "metadata": {
        "colab": {
          "base_uri": "https://localhost:8080/"
        },
        "id": "1Lq0ph2wl3x5",
        "outputId": "722f8870-1764-4fe6-a899-0c5d305d23eb"
      },
      "execution_count": 163,
      "outputs": [
        {
          "output_type": "execute_result",
          "data": {
            "text/plain": [
              "<tf.Tensor: shape=(4, 4), dtype=float32, numpy=\n",
              "array([[1., 0., 0., 0.],\n",
              "       [0., 1., 0., 0.],\n",
              "       [0., 0., 1., 0.],\n",
              "       [0., 0., 0., 1.]], dtype=float32)>"
            ]
          },
          "metadata": {},
          "execution_count": 163
        }
      ]
    },
    {
      "cell_type": "code",
      "source": [
        "tf.one_hot(some_list, depth = 4, on_value = \"yes\", off_value = \"no\")"
      ],
      "metadata": {
        "colab": {
          "base_uri": "https://localhost:8080/"
        },
        "id": "5lzROqYumQIb",
        "outputId": "cabcd04d-de9c-4944-be4e-150875825304"
      },
      "execution_count": 164,
      "outputs": [
        {
          "output_type": "execute_result",
          "data": {
            "text/plain": [
              "<tf.Tensor: shape=(4, 4), dtype=string, numpy=\n",
              "array([[b'yes', b'no', b'no', b'no'],\n",
              "       [b'no', b'yes', b'no', b'no'],\n",
              "       [b'no', b'no', b'yes', b'no'],\n",
              "       [b'no', b'no', b'no', b'yes']], dtype=object)>"
            ]
          },
          "metadata": {},
          "execution_count": 164
        }
      ]
    },
    {
      "cell_type": "markdown",
      "source": [
        "### Squaring, log, square root"
      ],
      "metadata": {
        "id": "AyIw2sK9oVJ3"
      }
    },
    {
      "cell_type": "code",
      "source": [
        "H = tf.range(1, 10)"
      ],
      "metadata": {
        "id": "cmB-597JnWKG"
      },
      "execution_count": 165,
      "outputs": []
    },
    {
      "cell_type": "code",
      "source": [
        "tf.square(H)"
      ],
      "metadata": {
        "colab": {
          "base_uri": "https://localhost:8080/"
        },
        "id": "-_fbCAyKoOri",
        "outputId": "8ac224fe-ee02-4b06-c468-2335b5d02ae5"
      },
      "execution_count": 166,
      "outputs": [
        {
          "output_type": "execute_result",
          "data": {
            "text/plain": [
              "<tf.Tensor: shape=(9,), dtype=int32, numpy=array([ 1,  4,  9, 16, 25, 36, 49, 64, 81], dtype=int32)>"
            ]
          },
          "metadata": {},
          "execution_count": 166
        }
      ]
    },
    {
      "cell_type": "code",
      "source": [
        "tf.sqrt(tf.cast(H, dtype = tf.float32))"
      ],
      "metadata": {
        "colab": {
          "base_uri": "https://localhost:8080/"
        },
        "id": "450iOYMIoq-3",
        "outputId": "a532481f-5bdf-4879-b78a-10351e9e1e2a"
      },
      "execution_count": 167,
      "outputs": [
        {
          "output_type": "execute_result",
          "data": {
            "text/plain": [
              "<tf.Tensor: shape=(9,), dtype=float32, numpy=\n",
              "array([1.       , 1.4142135, 1.7320508, 2.       , 2.2360678, 2.4494896,\n",
              "       2.6457512, 2.828427 , 3.       ], dtype=float32)>"
            ]
          },
          "metadata": {},
          "execution_count": 167
        }
      ]
    },
    {
      "cell_type": "code",
      "source": [
        "tf.math.log(tf.cast(H, dtype = tf.float32))"
      ],
      "metadata": {
        "colab": {
          "base_uri": "https://localhost:8080/"
        },
        "id": "LzPLYUJ4ovaN",
        "outputId": "18bc2cc2-e55d-471f-e976-cc183c37a113"
      },
      "execution_count": 168,
      "outputs": [
        {
          "output_type": "execute_result",
          "data": {
            "text/plain": [
              "<tf.Tensor: shape=(9,), dtype=float32, numpy=\n",
              "array([0.       , 0.6931472, 1.0986123, 1.3862944, 1.609438 , 1.7917595,\n",
              "       1.9459102, 2.0794415, 2.1972246], dtype=float32)>"
            ]
          },
          "metadata": {},
          "execution_count": 168
        }
      ]
    },
    {
      "cell_type": "markdown",
      "source": [
        "### Tensors and NumPy"
      ],
      "metadata": {
        "id": "KMmDZcg7pZpL"
      }
    },
    {
      "cell_type": "code",
      "source": [
        "J = tf.constant(np.array([3., 7., 10.]))\n",
        "\n",
        "J"
      ],
      "metadata": {
        "colab": {
          "base_uri": "https://localhost:8080/"
        },
        "id": "vOMKtZvHevmO",
        "outputId": "c2f177cc-6663-46d2-d495-613767105a53"
      },
      "execution_count": 169,
      "outputs": [
        {
          "output_type": "execute_result",
          "data": {
            "text/plain": [
              "<tf.Tensor: shape=(3,), dtype=float64, numpy=array([ 3.,  7., 10.])>"
            ]
          },
          "metadata": {},
          "execution_count": 169
        }
      ]
    },
    {
      "cell_type": "code",
      "source": [
        "# Convert the tensor back to a NumPy array\n",
        "\n",
        "np.array(J), type(np.array(J))"
      ],
      "metadata": {
        "colab": {
          "base_uri": "https://localhost:8080/"
        },
        "id": "-p3UlN1Ne1i0",
        "outputId": "774ccb89-4d23-4321-9fa5-bbaf762b9d75"
      },
      "execution_count": 170,
      "outputs": [
        {
          "output_type": "execute_result",
          "data": {
            "text/plain": [
              "(array([ 3.,  7., 10.]), numpy.ndarray)"
            ]
          },
          "metadata": {},
          "execution_count": 170
        }
      ]
    },
    {
      "cell_type": "code",
      "source": [
        "# Convert tensor J to a NumPy array\n",
        "\n",
        "J.numpy(), type(J.numpy())"
      ],
      "metadata": {
        "colab": {
          "base_uri": "https://localhost:8080/"
        },
        "id": "q61_uVCrfBy1",
        "outputId": "5bd8494a-8cc8-4808-cc5c-0b536424943a"
      },
      "execution_count": 171,
      "outputs": [
        {
          "output_type": "execute_result",
          "data": {
            "text/plain": [
              "(array([ 3.,  7., 10.]), numpy.ndarray)"
            ]
          },
          "metadata": {},
          "execution_count": 171
        }
      ]
    },
    {
      "cell_type": "code",
      "source": [
        "J = tf.constant([3.])\n",
        "\n",
        "J.numpy()[0]"
      ],
      "metadata": {
        "colab": {
          "base_uri": "https://localhost:8080/"
        },
        "id": "OS5hbRBhfcFe",
        "outputId": "67731213-f885-4e7c-b6da-20a13ed47be7"
      },
      "execution_count": 172,
      "outputs": [
        {
          "output_type": "execute_result",
          "data": {
            "text/plain": [
              "3.0"
            ]
          },
          "metadata": {},
          "execution_count": 172
        }
      ]
    },
    {
      "cell_type": "code",
      "source": [
        "# The default types of each are slightly different\n",
        "\n",
        "numpy_J = tf.constant(np.array([3., 7., 10.]))\n",
        "tensor_J = tf.constant([3., 7., 10.])\n",
        "\n",
        "numpy_J.dtype, tensor_J.dtype"
      ],
      "metadata": {
        "colab": {
          "base_uri": "https://localhost:8080/"
        },
        "id": "5H0RhWGHfjPZ",
        "outputId": "b02b2dae-2d4c-4e8e-eed9-33698377391b"
      },
      "execution_count": 173,
      "outputs": [
        {
          "output_type": "execute_result",
          "data": {
            "text/plain": [
              "(tf.float64, tf.float32)"
            ]
          },
          "metadata": {},
          "execution_count": 173
        }
      ]
    },
    {
      "cell_type": "code",
      "source": [
        "tf.cast(numpy_J, tf.float32).dtype"
      ],
      "metadata": {
        "colab": {
          "base_uri": "https://localhost:8080/"
        },
        "id": "LFjypLkrf6xb",
        "outputId": "8c653a2e-bf00-4ddb-8bd1-dc33e95e9ab1"
      },
      "execution_count": 174,
      "outputs": [
        {
          "output_type": "execute_result",
          "data": {
            "text/plain": [
              "tf.float32"
            ]
          },
          "metadata": {},
          "execution_count": 174
        }
      ]
    },
    {
      "cell_type": "markdown",
      "source": [
        "### Finding access to GPUs"
      ],
      "metadata": {
        "id": "ZBqIGeglgFOu"
      }
    },
    {
      "cell_type": "code",
      "source": [
        "tf.config.list_physical_devices()"
      ],
      "metadata": {
        "colab": {
          "base_uri": "https://localhost:8080/"
        },
        "id": "zGMzsPkSgm_T",
        "outputId": "89a53f89-86d1-409a-f934-dbda5788cdf1"
      },
      "execution_count": 175,
      "outputs": [
        {
          "output_type": "execute_result",
          "data": {
            "text/plain": [
              "[PhysicalDevice(name='/physical_device:CPU:0', device_type='CPU'),\n",
              " PhysicalDevice(name='/physical_device:GPU:0', device_type='GPU')]"
            ]
          },
          "metadata": {},
          "execution_count": 175
        }
      ]
    },
    {
      "cell_type": "code",
      "source": [
        "!nvidia-smi"
      ],
      "metadata": {
        "colab": {
          "base_uri": "https://localhost:8080/"
        },
        "id": "5ZsbBXyzgwtv",
        "outputId": "164d4c67-c53e-4619-ee84-5660cb94e960"
      },
      "execution_count": 176,
      "outputs": [
        {
          "output_type": "stream",
          "name": "stdout",
          "text": [
            "Tue Feb 21 15:41:42 2023       \n",
            "+-----------------------------------------------------------------------------+\n",
            "| NVIDIA-SMI 510.47.03    Driver Version: 510.47.03    CUDA Version: 11.6     |\n",
            "|-------------------------------+----------------------+----------------------+\n",
            "| GPU  Name        Persistence-M| Bus-Id        Disp.A | Volatile Uncorr. ECC |\n",
            "| Fan  Temp  Perf  Pwr:Usage/Cap|         Memory-Usage | GPU-Util  Compute M. |\n",
            "|                               |                      |               MIG M. |\n",
            "|===============================+======================+======================|\n",
            "|   0  Tesla T4            Off  | 00000000:00:04.0 Off |                    0 |\n",
            "| N/A   55C    P0    29W /  70W |    328MiB / 15360MiB |      0%      Default |\n",
            "|                               |                      |                  N/A |\n",
            "+-------------------------------+----------------------+----------------------+\n",
            "                                                                               \n",
            "+-----------------------------------------------------------------------------+\n",
            "| Processes:                                                                  |\n",
            "|  GPU   GI   CI        PID   Type   Process name                  GPU Memory |\n",
            "|        ID   ID                                                   Usage      |\n",
            "|=============================================================================|\n",
            "|    0   N/A  N/A      5728      C                                     325MiB |\n",
            "+-----------------------------------------------------------------------------+\n"
          ]
        }
      ]
    },
    {
      "cell_type": "markdown",
      "source": [
        "> **Note:** If you have access to a CUDA-enabled GPU, TensorFlow will automatically use it whenever possible."
      ],
      "metadata": {
        "id": "I0rsZGJghsYI"
      }
    },
    {
      "cell_type": "markdown",
      "source": [
        "### Execise material\n",
        "\n",
        "1. Create a vector, scalar, matrix and tensor with values of your choosing using tf.constant().\n",
        "2. Find the shape, rank and size of the tensors you created in 1.\n",
        "3. Create two tensors containing random values between 0 and 1 with shape [5, 300].\n",
        "4. Multiply the two tensors you created in 3 using matrix multiplication.\n",
        "5. Multiply the two tensors you created in 3 using dot product.\n",
        "6. Create a tensor with random values between 0 and 1 with shape [224, 224, 3].\n",
        "7. Find the min and max values of the tensor you created in 6 along the first axis.\n",
        "8. Created a tensor with random values of shape [1, 224, 224, 3] then squeeze it to change the shape to [224, 224, 3].\n",
        "9. Create a tensor with shape [10] using your own choice of values, then find the index which has the maximum value.\n",
        "10. One-hot encode the tensor you created in 9."
      ],
      "metadata": {
        "id": "_phnPl1co2sP"
      }
    },
    {
      "cell_type": "code",
      "source": [
        "mat_tensor = tf.constant(np.array([[3., 4., 5.],\n",
        "                                   [6., 7., 8.],\n",
        "                                   [9., 10., 11.]]))\n",
        "\n",
        "mat_tensor"
      ],
      "metadata": {
        "colab": {
          "base_uri": "https://localhost:8080/"
        },
        "id": "XzqnmtIqpOvj",
        "outputId": "0913d91a-f4a6-4812-ba9c-6ba84bee3a11"
      },
      "execution_count": 178,
      "outputs": [
        {
          "output_type": "execute_result",
          "data": {
            "text/plain": [
              "<tf.Tensor: shape=(3, 3), dtype=float64, numpy=\n",
              "array([[ 3.,  4.,  5.],\n",
              "       [ 6.,  7.,  8.],\n",
              "       [ 9., 10., 11.]])>"
            ]
          },
          "metadata": {},
          "execution_count": 178
        }
      ]
    },
    {
      "cell_type": "code",
      "source": [
        "mat_tensor.shape, mat_tensor.dtype, tf.size(mat_tensor)"
      ],
      "metadata": {
        "colab": {
          "base_uri": "https://localhost:8080/"
        },
        "id": "IfZtKUg0pbvt",
        "outputId": "58b265b9-9bd0-4fa7-c861-b7fc2a06ad99"
      },
      "execution_count": 181,
      "outputs": [
        {
          "output_type": "execute_result",
          "data": {
            "text/plain": [
              "(TensorShape([3, 3]), tf.float64, <tf.Tensor: shape=(), dtype=int32, numpy=9>)"
            ]
          },
          "metadata": {},
          "execution_count": 181
        }
      ]
    },
    {
      "cell_type": "code",
      "source": [
        "mat_tensor_1 = tf.constant(tf.random.uniform(shape = (5, 300), minval = 0, maxval = 2, dtype = tf.int32))\n",
        "mat_tensor_2 = tf.constant(tf.random.uniform(shape = (5, 300), minval = 0, maxval = 2, dtype = tf.int32))\n",
        "\n",
        "mat_tensor_1, mat_tensor_2"
      ],
      "metadata": {
        "colab": {
          "base_uri": "https://localhost:8080/"
        },
        "id": "e51Lg-xMp03Y",
        "outputId": "cae0719e-c155-4e5d-e586-26a1d54ab9ad"
      },
      "execution_count": 188,
      "outputs": [
        {
          "output_type": "execute_result",
          "data": {
            "text/plain": [
              "(<tf.Tensor: shape=(5, 300), dtype=int32, numpy=\n",
              " array([[0, 1, 0, ..., 0, 1, 1],\n",
              "        [1, 1, 1, ..., 1, 1, 0],\n",
              "        [1, 0, 1, ..., 1, 0, 1],\n",
              "        [1, 1, 0, ..., 1, 0, 1],\n",
              "        [1, 1, 1, ..., 1, 1, 0]], dtype=int32)>,\n",
              " <tf.Tensor: shape=(5, 300), dtype=int32, numpy=\n",
              " array([[1, 1, 1, ..., 0, 1, 1],\n",
              "        [0, 1, 0, ..., 1, 1, 0],\n",
              "        [0, 1, 0, ..., 1, 0, 1],\n",
              "        [0, 1, 1, ..., 1, 1, 0],\n",
              "        [0, 0, 0, ..., 0, 1, 1]], dtype=int32)>)"
            ]
          },
          "metadata": {},
          "execution_count": 188
        }
      ]
    },
    {
      "cell_type": "code",
      "source": [
        "tf.matmul(mat_tensor_1, mat_tensor_2, transpose_a = True), tf.matmul(tf.transpose(mat_tensor_1), mat_tensor_2)"
      ],
      "metadata": {
        "colab": {
          "base_uri": "https://localhost:8080/"
        },
        "id": "RsxTW7H6qV-9",
        "outputId": "4a23064c-78f6-4ec0-c00d-c3700e7cdb92"
      },
      "execution_count": 196,
      "outputs": [
        {
          "output_type": "execute_result",
          "data": {
            "text/plain": [
              "(<tf.Tensor: shape=(300, 300), dtype=int32, numpy=\n",
              " array([[0, 3, 1, ..., 3, 3, 2],\n",
              "        [1, 3, 2, ..., 2, 4, 2],\n",
              "        [0, 2, 0, ..., 2, 2, 2],\n",
              "        ...,\n",
              "        [0, 3, 1, ..., 3, 3, 2],\n",
              "        [1, 2, 1, ..., 1, 3, 2],\n",
              "        [1, 3, 2, ..., 2, 2, 2]], dtype=int32)>,\n",
              " <tf.Tensor: shape=(300, 300), dtype=int32, numpy=\n",
              " array([[0, 3, 1, ..., 3, 3, 2],\n",
              "        [1, 3, 2, ..., 2, 4, 2],\n",
              "        [0, 2, 0, ..., 2, 2, 2],\n",
              "        ...,\n",
              "        [0, 3, 1, ..., 3, 3, 2],\n",
              "        [1, 2, 1, ..., 1, 3, 2],\n",
              "        [1, 3, 2, ..., 2, 2, 2]], dtype=int32)>)"
            ]
          },
          "metadata": {},
          "execution_count": 196
        }
      ]
    },
    {
      "cell_type": "code",
      "source": [
        "tf.matmul(mat_tensor_1, mat_tensor_2, transpose_b = True)"
      ],
      "metadata": {
        "colab": {
          "base_uri": "https://localhost:8080/"
        },
        "id": "flLgSvokr65x",
        "outputId": "1e2cf3e1-e26a-4cdb-914a-0e77e004a621"
      },
      "execution_count": 198,
      "outputs": [
        {
          "output_type": "execute_result",
          "data": {
            "text/plain": [
              "<tf.Tensor: shape=(5, 5), dtype=int32, numpy=\n",
              "array([[81, 68, 79, 69, 73],\n",
              "       [85, 71, 93, 74, 81],\n",
              "       [69, 56, 71, 64, 66],\n",
              "       [80, 69, 77, 74, 70],\n",
              "       [92, 80, 82, 93, 74]], dtype=int32)>"
            ]
          },
          "metadata": {},
          "execution_count": 198
        }
      ]
    },
    {
      "cell_type": "code",
      "source": [
        "tf.tensordot(tf.cast(mat_tensor_1, dtype = tf.float32), tf.transpose(tf.cast(mat_tensor_2, dtype = tf.float32)), axes = 1)"
      ],
      "metadata": {
        "colab": {
          "base_uri": "https://localhost:8080/"
        },
        "id": "YyOjcv1sttu-",
        "outputId": "65fc0b8e-2210-4004-a10b-d6f7006cab9b"
      },
      "execution_count": 204,
      "outputs": [
        {
          "output_type": "execute_result",
          "data": {
            "text/plain": [
              "<tf.Tensor: shape=(5, 5), dtype=float32, numpy=\n",
              "array([[81., 68., 79., 69., 73.],\n",
              "       [85., 71., 93., 74., 81.],\n",
              "       [69., 56., 71., 64., 66.],\n",
              "       [80., 69., 77., 74., 70.],\n",
              "       [92., 80., 82., 93., 74.]], dtype=float32)>"
            ]
          },
          "metadata": {},
          "execution_count": 204
        }
      ]
    },
    {
      "cell_type": "code",
      "source": [
        "mat_tensor_3 = tf.constant(tf.random.uniform(shape = (224, 224, 3), minval = 0, maxval = 2, dtype = tf.int32))\n",
        "\n",
        "mat_tensor_3"
      ],
      "metadata": {
        "colab": {
          "base_uri": "https://localhost:8080/"
        },
        "id": "Eq_2kBf-vZx6",
        "outputId": "5b63c1c0-c0b9-486a-8b13-9432ebfc1035"
      },
      "execution_count": 206,
      "outputs": [
        {
          "output_type": "execute_result",
          "data": {
            "text/plain": [
              "<tf.Tensor: shape=(224, 224, 3), dtype=int32, numpy=\n",
              "array([[[1, 1, 0],\n",
              "        [0, 0, 1],\n",
              "        [1, 0, 0],\n",
              "        ...,\n",
              "        [0, 0, 1],\n",
              "        [0, 1, 1],\n",
              "        [1, 0, 0]],\n",
              "\n",
              "       [[0, 1, 1],\n",
              "        [1, 0, 1],\n",
              "        [0, 0, 0],\n",
              "        ...,\n",
              "        [0, 0, 0],\n",
              "        [1, 0, 1],\n",
              "        [0, 0, 1]],\n",
              "\n",
              "       [[1, 1, 1],\n",
              "        [0, 1, 0],\n",
              "        [0, 1, 0],\n",
              "        ...,\n",
              "        [1, 1, 0],\n",
              "        [0, 0, 0],\n",
              "        [1, 1, 1]],\n",
              "\n",
              "       ...,\n",
              "\n",
              "       [[0, 1, 1],\n",
              "        [1, 1, 1],\n",
              "        [1, 1, 1],\n",
              "        ...,\n",
              "        [1, 1, 0],\n",
              "        [0, 0, 0],\n",
              "        [0, 1, 1]],\n",
              "\n",
              "       [[0, 0, 1],\n",
              "        [0, 1, 0],\n",
              "        [1, 1, 1],\n",
              "        ...,\n",
              "        [1, 0, 1],\n",
              "        [0, 1, 0],\n",
              "        [1, 0, 1]],\n",
              "\n",
              "       [[1, 0, 0],\n",
              "        [1, 1, 1],\n",
              "        [0, 1, 1],\n",
              "        ...,\n",
              "        [1, 1, 1],\n",
              "        [1, 0, 1],\n",
              "        [0, 1, 1]]], dtype=int32)>"
            ]
          },
          "metadata": {},
          "execution_count": 206
        }
      ]
    },
    {
      "cell_type": "code",
      "source": [
        "tf.reduce_min(mat_tensor_3[0])"
      ],
      "metadata": {
        "colab": {
          "base_uri": "https://localhost:8080/"
        },
        "id": "ZQGeOIxF0qHl",
        "outputId": "ec6c01e0-0866-4409-cf3f-8322b1b67f61"
      },
      "execution_count": 209,
      "outputs": [
        {
          "output_type": "execute_result",
          "data": {
            "text/plain": [
              "<tf.Tensor: shape=(), dtype=int32, numpy=0>"
            ]
          },
          "metadata": {},
          "execution_count": 209
        }
      ]
    },
    {
      "cell_type": "code",
      "source": [
        "mat_tensor_4 = tf.constant(tf.random.uniform(shape = (1, 224, 224, 3), minval = 0, maxval = 2))\n",
        "\n",
        "mat_tensor_4"
      ],
      "metadata": {
        "colab": {
          "base_uri": "https://localhost:8080/"
        },
        "id": "cP5UbnX004D0",
        "outputId": "1815f5a7-0bb1-492e-a246-52902368a0d1"
      },
      "execution_count": 213,
      "outputs": [
        {
          "output_type": "execute_result",
          "data": {
            "text/plain": [
              "<tf.Tensor: shape=(1, 224, 224, 3), dtype=float32, numpy=\n",
              "array([[[[1.1959734 , 0.42053056, 1.6823161 ],\n",
              "         [1.3154452 , 0.5702772 , 0.19695187],\n",
              "         [1.8069124 , 0.4752984 , 0.5954211 ],\n",
              "         ...,\n",
              "         [0.80249286, 1.6490679 , 0.9908538 ],\n",
              "         [0.35236764, 1.1324704 , 0.98555636],\n",
              "         [1.4930496 , 1.2101617 , 0.09107161]],\n",
              "\n",
              "        [[1.6383679 , 0.07921195, 0.8361442 ],\n",
              "         [0.46177483, 1.4631374 , 1.3852768 ],\n",
              "         [1.1483061 , 1.5312567 , 0.63012385],\n",
              "         ...,\n",
              "         [1.8218391 , 0.81717014, 1.8395355 ],\n",
              "         [1.0114748 , 0.6755059 , 0.6530788 ],\n",
              "         [1.4599974 , 1.887315  , 0.26868343]],\n",
              "\n",
              "        [[0.93977547, 0.9623852 , 1.8743339 ],\n",
              "         [1.4093311 , 0.6365583 , 0.1188271 ],\n",
              "         [0.404593  , 1.8818936 , 0.36445832],\n",
              "         ...,\n",
              "         [1.399965  , 0.99185085, 0.24063182],\n",
              "         [1.6783669 , 1.5755951 , 0.8950975 ],\n",
              "         [1.1186624 , 1.3323536 , 1.2886217 ]],\n",
              "\n",
              "        ...,\n",
              "\n",
              "        [[0.5073366 , 0.2222352 , 0.48911142],\n",
              "         [1.3531456 , 1.8817892 , 0.28758526],\n",
              "         [1.2025573 , 1.7899942 , 1.8255384 ],\n",
              "         ...,\n",
              "         [0.94356346, 1.4052639 , 0.57581234],\n",
              "         [0.25370526, 0.49773836, 1.2969608 ],\n",
              "         [0.8099146 , 0.8452573 , 0.4351685 ]],\n",
              "\n",
              "        [[1.8721013 , 0.9497566 , 0.12851787],\n",
              "         [1.6703794 , 0.1184094 , 1.1610022 ],\n",
              "         [1.3621883 , 1.9841344 , 1.8782406 ],\n",
              "         ...,\n",
              "         [0.8174963 , 1.9859786 , 1.9965312 ],\n",
              "         [0.53195214, 0.5803783 , 0.20854664],\n",
              "         [0.82943106, 0.07998824, 1.4606779 ]],\n",
              "\n",
              "        [[0.3902774 , 1.2392216 , 1.7522385 ],\n",
              "         [0.53278065, 1.6993022 , 0.5025859 ],\n",
              "         [1.456886  , 0.28517818, 1.5284262 ],\n",
              "         ...,\n",
              "         [0.09924388, 0.5392568 , 0.83742833],\n",
              "         [1.6886952 , 0.5103657 , 1.7278268 ],\n",
              "         [1.6209743 , 1.8453989 , 0.42696643]]]], dtype=float32)>"
            ]
          },
          "metadata": {},
          "execution_count": 213
        }
      ]
    },
    {
      "cell_type": "code",
      "source": [
        "tf.squeeze(mat_tensor_4)"
      ],
      "metadata": {
        "colab": {
          "base_uri": "https://localhost:8080/"
        },
        "id": "PS2lf1_31d9g",
        "outputId": "21541546-d79c-47ba-efc8-a1518be60fd2"
      },
      "execution_count": 214,
      "outputs": [
        {
          "output_type": "execute_result",
          "data": {
            "text/plain": [
              "<tf.Tensor: shape=(224, 224, 3), dtype=float32, numpy=\n",
              "array([[[1.1959734 , 0.42053056, 1.6823161 ],\n",
              "        [1.3154452 , 0.5702772 , 0.19695187],\n",
              "        [1.8069124 , 0.4752984 , 0.5954211 ],\n",
              "        ...,\n",
              "        [0.80249286, 1.6490679 , 0.9908538 ],\n",
              "        [0.35236764, 1.1324704 , 0.98555636],\n",
              "        [1.4930496 , 1.2101617 , 0.09107161]],\n",
              "\n",
              "       [[1.6383679 , 0.07921195, 0.8361442 ],\n",
              "        [0.46177483, 1.4631374 , 1.3852768 ],\n",
              "        [1.1483061 , 1.5312567 , 0.63012385],\n",
              "        ...,\n",
              "        [1.8218391 , 0.81717014, 1.8395355 ],\n",
              "        [1.0114748 , 0.6755059 , 0.6530788 ],\n",
              "        [1.4599974 , 1.887315  , 0.26868343]],\n",
              "\n",
              "       [[0.93977547, 0.9623852 , 1.8743339 ],\n",
              "        [1.4093311 , 0.6365583 , 0.1188271 ],\n",
              "        [0.404593  , 1.8818936 , 0.36445832],\n",
              "        ...,\n",
              "        [1.399965  , 0.99185085, 0.24063182],\n",
              "        [1.6783669 , 1.5755951 , 0.8950975 ],\n",
              "        [1.1186624 , 1.3323536 , 1.2886217 ]],\n",
              "\n",
              "       ...,\n",
              "\n",
              "       [[0.5073366 , 0.2222352 , 0.48911142],\n",
              "        [1.3531456 , 1.8817892 , 0.28758526],\n",
              "        [1.2025573 , 1.7899942 , 1.8255384 ],\n",
              "        ...,\n",
              "        [0.94356346, 1.4052639 , 0.57581234],\n",
              "        [0.25370526, 0.49773836, 1.2969608 ],\n",
              "        [0.8099146 , 0.8452573 , 0.4351685 ]],\n",
              "\n",
              "       [[1.8721013 , 0.9497566 , 0.12851787],\n",
              "        [1.6703794 , 0.1184094 , 1.1610022 ],\n",
              "        [1.3621883 , 1.9841344 , 1.8782406 ],\n",
              "        ...,\n",
              "        [0.8174963 , 1.9859786 , 1.9965312 ],\n",
              "        [0.53195214, 0.5803783 , 0.20854664],\n",
              "        [0.82943106, 0.07998824, 1.4606779 ]],\n",
              "\n",
              "       [[0.3902774 , 1.2392216 , 1.7522385 ],\n",
              "        [0.53278065, 1.6993022 , 0.5025859 ],\n",
              "        [1.456886  , 0.28517818, 1.5284262 ],\n",
              "        ...,\n",
              "        [0.09924388, 0.5392568 , 0.83742833],\n",
              "        [1.6886952 , 0.5103657 , 1.7278268 ],\n",
              "        [1.6209743 , 1.8453989 , 0.42696643]]], dtype=float32)>"
            ]
          },
          "metadata": {},
          "execution_count": 214
        }
      ]
    },
    {
      "cell_type": "code",
      "source": [
        "mat_tensor_5 = tf.constant(tf.random.uniform(shape = [10], minval = 0, maxval = 10, dtype = tf.int32))\n",
        "mat_tensor_5_1 = tf.constant(tf.random.uniform(shape = (10,), minval = 0, maxval = 1000, dtype = tf.int32))\n",
        "\n",
        "mat_tensor_5, mat_tensor_5_1, mat_tensor_5.shape == mat_tensor_5_1.shape"
      ],
      "metadata": {
        "colab": {
          "base_uri": "https://localhost:8080/"
        },
        "id": "znzAILn61wPf",
        "outputId": "e35ac428-89d1-45d7-876f-d9b2866fa788"
      },
      "execution_count": 235,
      "outputs": [
        {
          "output_type": "execute_result",
          "data": {
            "text/plain": [
              "(<tf.Tensor: shape=(10,), dtype=int32, numpy=array([6, 8, 4, 1, 9, 1, 4, 6, 6, 7], dtype=int32)>,\n",
              " <tf.Tensor: shape=(10,), dtype=int32, numpy=array([615, 103, 368, 809, 896, 921, 909, 824, 933, 630], dtype=int32)>,\n",
              " True)"
            ]
          },
          "metadata": {},
          "execution_count": 235
        }
      ]
    },
    {
      "cell_type": "code",
      "source": [
        "tf.one_hot(mat_tensor_5.numpy(), depth = 10), mat_tensor_5, mat_tensor_5.numpy()"
      ],
      "metadata": {
        "colab": {
          "base_uri": "https://localhost:8080/"
        },
        "id": "-9-_zqzl2DzN",
        "outputId": "eaab8957-6ac7-4b45-e120-a650903d283a"
      },
      "execution_count": 236,
      "outputs": [
        {
          "output_type": "execute_result",
          "data": {
            "text/plain": [
              "(<tf.Tensor: shape=(10, 10), dtype=float32, numpy=\n",
              " array([[0., 0., 0., 0., 0., 0., 1., 0., 0., 0.],\n",
              "        [0., 0., 0., 0., 0., 0., 0., 0., 1., 0.],\n",
              "        [0., 0., 0., 0., 1., 0., 0., 0., 0., 0.],\n",
              "        [0., 1., 0., 0., 0., 0., 0., 0., 0., 0.],\n",
              "        [0., 0., 0., 0., 0., 0., 0., 0., 0., 1.],\n",
              "        [0., 1., 0., 0., 0., 0., 0., 0., 0., 0.],\n",
              "        [0., 0., 0., 0., 1., 0., 0., 0., 0., 0.],\n",
              "        [0., 0., 0., 0., 0., 0., 1., 0., 0., 0.],\n",
              "        [0., 0., 0., 0., 0., 0., 1., 0., 0., 0.],\n",
              "        [0., 0., 0., 0., 0., 0., 0., 1., 0., 0.]], dtype=float32)>,\n",
              " <tf.Tensor: shape=(10,), dtype=int32, numpy=array([6, 8, 4, 1, 9, 1, 4, 6, 6, 7], dtype=int32)>,\n",
              " array([6, 8, 4, 1, 9, 1, 4, 6, 6, 7], dtype=int32))"
            ]
          },
          "metadata": {},
          "execution_count": 236
        }
      ]
    },
    {
      "cell_type": "code",
      "source": [
        "mat_tensor_6 = tf.constant([0, 1, 2, 3, 4, 5, 6, 7, 8, 9])\n",
        "\n",
        "tf.one_hot(mat_tensor_6, depth = 10)"
      ],
      "metadata": {
        "colab": {
          "base_uri": "https://localhost:8080/"
        },
        "id": "Fl1OcQT04EY-",
        "outputId": "0572c98f-f9e4-47c7-e524-4d288f49f2b4"
      },
      "execution_count": 238,
      "outputs": [
        {
          "output_type": "execute_result",
          "data": {
            "text/plain": [
              "<tf.Tensor: shape=(10, 10), dtype=float32, numpy=\n",
              "array([[1., 0., 0., 0., 0., 0., 0., 0., 0., 0.],\n",
              "       [0., 1., 0., 0., 0., 0., 0., 0., 0., 0.],\n",
              "       [0., 0., 1., 0., 0., 0., 0., 0., 0., 0.],\n",
              "       [0., 0., 0., 1., 0., 0., 0., 0., 0., 0.],\n",
              "       [0., 0., 0., 0., 1., 0., 0., 0., 0., 0.],\n",
              "       [0., 0., 0., 0., 0., 1., 0., 0., 0., 0.],\n",
              "       [0., 0., 0., 0., 0., 0., 1., 0., 0., 0.],\n",
              "       [0., 0., 0., 0., 0., 0., 0., 1., 0., 0.],\n",
              "       [0., 0., 0., 0., 0., 0., 0., 0., 1., 0.],\n",
              "       [0., 0., 0., 0., 0., 0., 0., 0., 0., 1.]], dtype=float32)>"
            ]
          },
          "metadata": {},
          "execution_count": 238
        }
      ]
    },
    {
      "cell_type": "code",
      "source": [
        "tf.reduce_max(mat_tensor_6)"
      ],
      "metadata": {
        "colab": {
          "base_uri": "https://localhost:8080/"
        },
        "id": "tLPHEath50LP",
        "outputId": "57d8019e-1f57-4320-cdff-e840a563619e"
      },
      "execution_count": 239,
      "outputs": [
        {
          "output_type": "execute_result",
          "data": {
            "text/plain": [
              "<tf.Tensor: shape=(), dtype=int32, numpy=9>"
            ]
          },
          "metadata": {},
          "execution_count": 239
        }
      ]
    },
    {
      "cell_type": "code",
      "source": [],
      "metadata": {
        "id": "CjiNzRjq6ELV"
      },
      "execution_count": null,
      "outputs": []
    }
  ]
}